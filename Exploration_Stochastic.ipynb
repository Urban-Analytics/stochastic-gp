{
 "cells": [
  {
   "cell_type": "markdown",
   "id": "76a56be8-e192-4808-bb70-c7753aebc85e",
   "metadata": {},
   "source": [
    "# Exploration of the stochastic BusSim model"
   ]
  },
  {
   "cell_type": "code",
   "execution_count": null,
   "id": "4a684402-346a-4fd6-baa4-8e156be3849f",
   "metadata": {},
   "outputs": [],
   "source": [
    "from BusSim_stochastic import run_model as run_model_s\n",
    "import numpy as np\n",
    "import matplotlib\n",
    "import matplotlib.pyplot as plt\n",
    "import mogp_emulator\n",
    "\n",
    "# Increase default figure size\n",
    "plt.rcParams[\"figure.figsize\"] = [12, 6]\n",
    "plt.rcParams[\"font.size\"] = 16"
   ]
  },
  {
   "cell_type": "markdown",
   "id": "a7bf75ec-a157-423c-81cd-8dc48e527bf1",
   "metadata": {},
   "source": [
    "## Setup\n",
    "\n",
    "First we need a function to run the model; this is pretty much the same as the deterministic version in the Exploration.ipynb file."
   ]
  },
  {
   "cell_type": "code",
   "execution_count": null,
   "id": "dde86c46-fee5-4293-876e-6b1fe662fa15",
   "metadata": {},
   "outputs": [],
   "source": [
    "def run_stochastic_model(ArrivalRate=None, TrafficSpeed=14, bus_ids_out=[0, 1, 2], maxDemand=2, DEBUG=False):\n",
    "    \n",
    "    NumberOfStop = 20\n",
    "    minDemand = 0.5\n",
    "     \n",
    "    # Initialise the remaining model parameters\n",
    "    model_params = {\n",
    "        \"dt\": 10,\n",
    "        \"minDemand\": minDemand,        \n",
    "        \"NumberOfStop\": NumberOfStop,\n",
    "        \"LengthBetweenStop\": 2000,\n",
    "        \"EndTime\": 6000,\n",
    "        \"Headway\": 5 * 60,\n",
    "        \"BurnIn\": 1 * 60,\n",
    "        \"AlightTime\": 1,\n",
    "        \"BoardTime\": 3,\n",
    "        \"StoppingTime\": 3,\n",
    "        \"BusAcceleration\": 3\n",
    "    }\n",
    "    \n",
    "    if ArrivalRate is None:\n",
    "        ArrivalRate = np.random.uniform(minDemand / 60, maxDemand / 60, NumberOfStop) \n",
    "    else:\n",
    "        ArrivalRate = ArrivalRate * np.ones(NumberOfStop)\n",
    "        \n",
    "    DepartureRate = np.sort(np.random.uniform(0.05, 0.5, NumberOfStop)) # Sorted as more passengers get off near the end of the route\n",
    "\n",
    "    model, model_params, ArrivalData, StateData, GroundTruth, GPSData = \\\n",
    "        run_model_s(model_params, TrafficSpeed, ArrivalRate, DepartureRate, False, False, False, True)\n",
    "            \n",
    "    bus_pos = np.array([bus.trajectory for bus in model.buses])    \n",
    "    time = np.arange(0, model.EndTime, model.dt)\n",
    "    total_distance = model_params[\"NumberOfStop\"] * model_params[\"LengthBetweenStop\"]\n",
    "\n",
    "    bus_t_end = [time[np.argmax(bp>=total_distance)] for bp in bus_pos]\n",
    "    bus_end_times = [bus_t_end[id] for id in bus_ids_out]\n",
    "    \n",
    "    if DEBUG:\n",
    "        print(bus_t_end)\n",
    "    \n",
    "    return bus_end_times, GPSData"
   ]
  },
  {
   "cell_type": "markdown",
   "id": "c0cf3fe7-d01a-411c-8e2e-87cffc7b7c15",
   "metadata": {},
   "source": [
    "## Initial look at variation\n",
    "\n",
    "We'll start by taking a look at the variability in bus arrival times for two different values of traffic speed."
   ]
  },
  {
   "cell_type": "code",
   "execution_count": null,
   "id": "5cc86f6f-f457-40f8-be32-7b4f4c376574",
   "metadata": {},
   "outputs": [],
   "source": [
    "%%capture\n",
    "bus_ids = range(8)\n",
    "repeats = 10\n",
    "\n",
    "md = 6\n",
    "ts = 14\n",
    "ts_fast = 28\n",
    "\n",
    "end_times = np.zeros((len(bus_ids), repeats))\n",
    "gps_locs = []\n",
    "for r in range(repeats):\n",
    "    t, g = run_stochastic_model(TrafficSpeed=ts, bus_ids_out=bus_ids, maxDemand=md)\n",
    "    end_times[:,r] = t\n",
    "    gps_locs.append(g)\n",
    "    \n",
    "end_times_fast = np.zeros((len(bus_ids), repeats))\n",
    "gps_locs_fast = []\n",
    "for r in range(repeats):\n",
    "    t, g = run_stochastic_model(TrafficSpeed=ts_fast, bus_ids_out=bus_ids, maxDemand=md)\n",
    "    end_times_fast[:,r] = t\n",
    "    gps_locs_fast.append(g)"
   ]
  },
  {
   "cell_type": "markdown",
   "id": "48a4f955-fe2e-429d-84db-9efe0cf366ff",
   "metadata": {},
   "source": [
    "First let's check out what happens with the default speed of 14.\n",
    "Note that some of the buses that depart later do not reach the final destination by the last time-step; those arrival time values are therefore shown as 0."
   ]
  },
  {
   "cell_type": "code",
   "execution_count": null,
   "id": "df24b380-6f02-41ee-b5a7-4ca68896cf03",
   "metadata": {},
   "outputs": [],
   "source": [
    "plt.plot(bus_ids, end_times);\n",
    "plt.ylim((3000, 7000));\n",
    "plt.xlabel(\"Bus ID\");\n",
    "plt.ylabel(\"Arrival time at final stop\");"
   ]
  },
  {
   "cell_type": "markdown",
   "id": "d15bf01b-c55a-4136-bb8a-2c268d837749",
   "metadata": {},
   "source": [
    "We'll also compare those buses against others travelling at a much faster speed.\n",
    "We have dropped colours for clarity here; slow buses are shown in black and fast ones in blue."
   ]
  },
  {
   "cell_type": "code",
   "execution_count": null,
   "id": "7855cdb9-8a12-40b2-93ab-1122406c9091",
   "metadata": {},
   "outputs": [],
   "source": [
    "plt.plot(bus_ids, end_times, color=\"k\");\n",
    "plt.plot(bus_ids, end_times_fast, color=\"b\");\n",
    "plt.ylim((2000, 7000));\n",
    "plt.xlabel(\"Bus ID\");\n",
    "plt.ylabel(\"Arrival time at final stop\");"
   ]
  },
  {
   "cell_type": "markdown",
   "id": "7afcd113-2696-4cb0-8772-aa54b212649c",
   "metadata": {},
   "source": [
    "## Using a GP to emulate bus arrival times with variable traffic speed\n",
    "\n",
    "Before we start, what might we expect to see as an output from the GP this time?\n",
    "\n",
    "In the previous notebook, we used a GP to predict final arrival times for different traffic speeds.\n",
    "That GP generally showed very low uncertainty, apart from at the limits of the traffic speed parameter space and sometimes also for Bus 0, which was often overtaken by the bus that followed it when the traffic speeds were higher."
   ]
  },
  {
   "cell_type": "markdown",
   "id": "db816e17-1d0f-44db-9883-128fbc3cd08f",
   "metadata": {},
   "source": [
    "### Generate training data for the GP\n",
    "\n",
    "We'll consider the same set-up as last time: we will vary traffic speed between 15 and 50, and use four training points within that parameter space.\n",
    "The difference this time is that we will run repeated simulations at each of those training points, so that we have 5 repeats per value of traffic speed."
   ]
  },
  {
   "cell_type": "code",
   "execution_count": null,
   "id": "24e6d9d3-6ee9-44e2-9c53-ea8bd6c44b6d",
   "metadata": {},
   "outputs": [],
   "source": [
    "ts_bus_ids = [0, 1, 2, 3, 6, 9]\n",
    "\n",
    "lhd = mogp_emulator.LatinHypercubeDesign([(15.0, 50.0)])\n",
    "\n",
    "n_simulations = 20\n",
    "n_repeats = 5\n",
    "n_sims = n_simulations * n_repeats\n",
    "lhd_traffic_speeds = lhd.sample(n_simulations)\n",
    "print(\"Using these traffic speed values for generating training data:\")\n",
    "print(lhd_traffic_speeds)\n",
    "lhd_traffic_speeds = np.repeat(lhd_traffic_speeds, n_repeats)"
   ]
  },
  {
   "cell_type": "code",
   "execution_count": null,
   "id": "d99ec434-d604-462a-a6ed-219406cea45b",
   "metadata": {},
   "outputs": [],
   "source": [
    "%%capture\n",
    "\n",
    "ts_simulation_output = np.zeros((len(ts_bus_ids), n_sims))\n",
    "\n",
    "for ind, ts in enumerate(lhd_traffic_speeds):\n",
    "    sim_out, _ = run_stochastic_model(TrafficSpeed=ts, bus_ids_out=ts_bus_ids)\n",
    "    ts_simulation_output[:,ind] = np.array(sim_out)"
   ]
  },
  {
   "cell_type": "markdown",
   "id": "d1fee730-7979-4607-94d8-5cae29659869",
   "metadata": {},
   "source": [
    "### Fit the GP\n",
    "\n",
    "We'll actually fit two different models here to try out the effects of changing the kernel.\n",
    "\n",
    "In the first model, we use the standard squared exponential kernelm while in the second, we use the Matern 5-2 kernel.\n",
    "\n",
    "The Matern kernel produces functions that are less smooth than the (default) squared exponential - it may be better at capturing the variability in arrival times."
   ]
  },
  {
   "cell_type": "code",
   "execution_count": null,
   "id": "82ab9625-f7eb-4e1c-afb5-305960924cc6",
   "metadata": {},
   "outputs": [],
   "source": [
    "ts_gp_se = mogp_emulator.MultiOutputGP(lhd_traffic_speeds, ts_simulation_output, kernel=mogp_emulator.Kernel.SquaredExponential(), nugget=\"adaptive\")\n",
    "ts_gp_se = mogp_emulator.fit_GP_MAP(ts_gp_se)\n",
    "\n",
    "ts_gp_se_nfit = mogp_emulator.MultiOutputGP(lhd_traffic_speeds, ts_simulation_output, kernel=mogp_emulator.Kernel.SquaredExponential(), nugget=\"fit\")\n",
    "ts_gp_se_nfit = mogp_emulator.fit_GP_MAP(ts_gp_se_nfit)\n",
    "\n",
    "ts_gp_m52 = mogp_emulator.MultiOutputGP(lhd_traffic_speeds, ts_simulation_output, kernel=mogp_emulator.Kernel.Matern52(), nugget=\"adaptive\")\n",
    "ts_gp_m52 = mogp_emulator.fit_GP_MAP(ts_gp_m52)\n",
    "\n",
    "ts_gp_m52_nfit = mogp_emulator.MultiOutputGP(lhd_traffic_speeds, ts_simulation_output, kernel=mogp_emulator.Kernel.Matern52(), nugget=\"fit\")\n",
    "ts_gp_m52_nfit = mogp_emulator.fit_GP_MAP(ts_gp_m52_nfit)"
   ]
  },
  {
   "cell_type": "markdown",
   "id": "1e21c538-b1ec-492e-a91f-48a5ad6f5f12",
   "metadata": {},
   "source": [
    "### Try out the GP\n",
    "\n",
    "Note the warning above: `Matrix not positive definite, skipping this iteration`\n",
    "\n",
    "This is generated because there are different values of the final arrival time for the same input value of traffic speed.\n",
    "\n",
    "To check in `mogp_emulator`: how does the nugget link in here? A nugget can be added for computational reasons - it is a small term added to the diagonal of the covariance matrix. However, is can also be interpreted as a small (consistent?) amount of stochastic noise"
   ]
  },
  {
   "cell_type": "code",
   "execution_count": null,
   "id": "28df787d-d93d-4f57-9101-8c8f00852e8a",
   "metadata": {},
   "outputs": [],
   "source": [
    "%%capture\n",
    "n_validation = 50\n",
    "\n",
    "validation_traffic_speeds = lhd.sample(n_validation)\n",
    "\n",
    "predicted_ts_se = ts_gp_se.predict(validation_traffic_speeds)\n",
    "predicted_ts_se_nfit = ts_gp_se_nfit.predict(validation_traffic_speeds)\n",
    "predicted_ts_m52 = ts_gp_m52.predict(validation_traffic_speeds)\n",
    "predicted_ts_m52_nfit = ts_gp_m52_nfit.predict(validation_traffic_speeds)\n",
    "\n",
    "\n",
    "actual_ts = np.zeros((len(ts_bus_ids), n_validation))\n",
    "for ind, ts in enumerate(validation_traffic_speeds):\n",
    "    sim_out, _ = run_stochastic_model(TrafficSpeed=ts[0], bus_ids_out=ts_bus_ids)\n",
    "    actual_ts[:,ind] = np.array(sim_out)"
   ]
  },
  {
   "cell_type": "markdown",
   "id": "793713b8-45c1-4ed7-899b-63ff03d2291e",
   "metadata": {},
   "source": [
    "Comments so far\n",
    "* MOGP lets us create a GP despite multiple outputs for consistent inputs\n",
    "* Huge uncertainty for buses after the first with comparable training points to deterministic model, despite very consistent outputs\n",
    "* Adding more repeats does bring down uncertainty, but overall for one bus rather than in specific regions"
   ]
  },
  {
   "cell_type": "code",
   "execution_count": null,
   "id": "46fa3b51-f010-4abb-b303-dc9e8c71239a",
   "metadata": {},
   "outputs": [],
   "source": [
    "# Define a function for plotting data used to train a gp, the simulated outputs and emulated outputs\n",
    "def plot_gp_train_and_pred(train_inputs, test_inputs, train_outputs, simulated_outputs, predicted_outputs, bus_ids, plt_bus_index=None):\n",
    "    \n",
    "    # Set the markers used in the plot\n",
    "    plt_mk = { \"train\": \".\",      # Used to train the GP\n",
    "               \"pred\": \"x\",    # Predicted by the GP with squared exponential kernel\n",
    "               \"sim\": \"+\" }       # Same TS as \"pred\", full simulation\n",
    "    plt_mk_legend = [matplotlib.lines.Line2D([0], [0], marker=plt_mk[\"train\"], color=\"w\", label=\"Training\",\n",
    "                     markerfacecolor=\"k\", markeredgecolor=\"k\"), \n",
    "                     matplotlib.lines.Line2D([0], [0], marker=plt_mk[\"pred\"], color=\"w\", label=\"Predicted (GP)\",\n",
    "                     markerfacecolor=\"k\", markeredgecolor=\"k\"),\n",
    "                     matplotlib.lines.Line2D([0], [0], marker=plt_mk[\"sim\"], color=\"w\", label=\"Simulated\",\n",
    "                     markerfacecolor=\"k\", markeredgecolor=\"k\")]\n",
    "    \n",
    "    legend_entries = []\n",
    "\n",
    "    # Easier to look at one bus at a time\n",
    "    if plt_bus_index:\n",
    "        plt.title(\"Bus {}\".format(bus_ids[plt_bus_index]))\n",
    "\n",
    "    for ind, (a, p, u) in enumerate(zip(simulated_outputs, predicted_outputs.mean, predicted_outputs.unc)):\n",
    "\n",
    "        if plt_bus_index is None or ind == plt_bus_index:\n",
    "            plt.plot(test_inputs, a, marker=plt_mk[\"sim\"], linestyle=\"\", color=plt.cm.Set1(ind))\n",
    "            plt.plot(test_inputs, p, marker=plt_mk[\"pred\"], linestyle=\"\", color=plt.cm.Set1(ind))\n",
    "            plt.plot(train_inputs, train_outputs[ind,], marker=plt_mk[\"train\"], linestyle=\"\", color=plt.cm.Set1(ind))\n",
    "\n",
    "            legend_entries.append(matplotlib.patches.Patch(facecolor=plt.cm.Set1(ind), edgecolor=None, label=\"Bus {}\".format(bus_ids[ind])))\n",
    "\n",
    "            o = np.argsort(validation_traffic_speeds, axis=None)\n",
    "            plt.fill_between(validation_traffic_speeds.flatten()[o], p[o]-u[o], p[o]+u[o],\n",
    "                             color=plt.cm.Set1(ind), alpha=0.2, linewidth=0)\n",
    "\n",
    "    plt.xlabel(\"Traffic speed\")\n",
    "    plt.ylabel(\"Time at final\\ndestination\")\n",
    "    plt.legend(handles=legend_entries+plt_mk_legend, fontsize=\"small\", loc=\"center right\", bbox_to_anchor=(1.3,0.5))\n",
    "    plt.ylim((0, 8000))"
   ]
  },
  {
   "cell_type": "code",
   "execution_count": null,
   "id": "d828b133-294e-4bf7-95ee-e0f05e8ef3b1",
   "metadata": {},
   "outputs": [],
   "source": [
    "plt_bus_index = 4\n",
    "\n",
    "fig, axs = plt.subplots(2,2,figsize=(25,15))\n",
    "fig.subplots_adjust(wspace=0.5, hspace=0.3)\n",
    "\n",
    "plt.sca(axs[0,0])\n",
    "plot_gp_train_and_pred(lhd_traffic_speeds, validation_traffic_speeds, \n",
    "                      ts_simulation_output, actual_ts, predicted_ts_se, ts_bus_ids, plt_bus_index);\n",
    "plt.title(\"Squared exponential kernel (adaptive)\");\n",
    "\n",
    "plt.sca(axs[1,0])\n",
    "plot_gp_train_and_pred(lhd_traffic_speeds, validation_traffic_speeds, \n",
    "                      ts_simulation_output, actual_ts, predicted_ts_se_nfit, ts_bus_ids, plt_bus_index);\n",
    "plt.title(\"Squared exponential kernel (fit)\");\n",
    "\n",
    "plt.sca(axs[0,1])\n",
    "plot_gp_train_and_pred(lhd_traffic_speeds, validation_traffic_speeds, \n",
    "                      ts_simulation_output, actual_ts, predicted_ts_m52, ts_bus_ids, plt_bus_index);\n",
    "plt.title(\"Matern 5-2 kernel (adaptive)\");\n",
    "\n",
    "plt.sca(axs[1,1])\n",
    "plot_gp_train_and_pred(lhd_traffic_speeds, validation_traffic_speeds, \n",
    "                      ts_simulation_output, actual_ts, predicted_ts_m52_nfit, ts_bus_ids, plt_bus_index);\n",
    "plt.title(\"Matern 5-2 kernel (fit)\");"
   ]
  },
  {
   "cell_type": "markdown",
   "id": "e1b47868-6295-4f8d-8be4-e77f5443bc91",
   "metadata": {},
   "source": [
    "### Brief notes on alternative kernels\n",
    "\n",
    "- For 20 repeats, 10 sims: SE kernel seems to pick up gaps in the training data better that the M52 does - look at Bus 9 (index 5). However, still have wide bounds on other buses and it isn't clear why.\n",
    "- 20 sims, 10 repeats: see M52 more (too) responsive to gaps in data..."
   ]
  },
  {
   "cell_type": "markdown",
   "id": "6e80f492-c4da-488b-8fcb-8ce9c507a1a1",
   "metadata": {},
   "source": [
    "### Get nugget parameter (adaptive or fit)"
   ]
  },
  {
   "cell_type": "code",
   "execution_count": null,
   "id": "7af855d8-87ff-4725-a727-d426be28645e",
   "metadata": {},
   "outputs": [],
   "source": [
    "print(\"Traffic speed emulator with squared exponential kernel and adaptive nugget\")\n",
    "for em in ts_gp_se.emulators:\n",
    "    print(\"{}\\t({})\".format(em.nugget, em.nugget_type))\n",
    "\n",
    "print(\"\\nTraffic speed emulator with squared exponential kernel and fit nugget\")\n",
    "for em in ts_gp_se_nfit.emulators:\n",
    "    print(\"{}\\t({})\".format(em.nugget, em.nugget_type))\n",
    "    \n",
    "print(\"\\nTraffic speed emulator with Matern 5-2 kernel and adaptive nugget\")\n",
    "for em in ts_gp_m52.emulators:\n",
    "    print(\"{}\\t({})\".format(em.nugget, em.nugget_type))\n",
    "    \n",
    "print(\"\\nTraffic speed emulator with Matern 5-2 kernel and fit nugget\")\n",
    "for em in ts_gp_m52_nfit.emulators:\n",
    "    print(\"{}\\t({})\".format(em.nugget, em.nugget_type))"
   ]
  },
  {
   "cell_type": "code",
   "execution_count": null,
   "id": "c5dd1c9e-8bff-4a5e-a1c3-bb1333da906f",
   "metadata": {},
   "outputs": [],
   "source": []
  }
 ],
 "metadata": {
  "kernelspec": {
   "display_name": "Python 3 (ipykernel)",
   "language": "python",
   "name": "python3"
  },
  "language_info": {
   "codemirror_mode": {
    "name": "ipython",
    "version": 3
   },
   "file_extension": ".py",
   "mimetype": "text/x-python",
   "name": "python",
   "nbconvert_exporter": "python",
   "pygments_lexer": "ipython3",
   "version": "3.8.1"
  }
 },
 "nbformat": 4,
 "nbformat_minor": 5
}
