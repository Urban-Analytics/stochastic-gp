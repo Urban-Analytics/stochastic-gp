{
 "cells": [
  {
   "cell_type": "markdown",
   "id": "7b1a76cc",
   "metadata": {},
   "source": [
    "# A simple stochastic example\n",
    "\n",
    "At the end of the notebook that discusses the stochastic simulator and GP emulation of it, we discuss some options for extending the [MOGP Emulator](https://mogp-emulator.readthedocs.io/en/latest/) package.\n",
    "Before working on such a task, we require a simple test problem.\n",
    "In this notebook, we explore a stochastic version of the code from one of their tutorials."
   ]
  },
  {
   "cell_type": "code",
   "execution_count": null,
   "id": "6dd9812e",
   "metadata": {},
   "outputs": [],
   "source": [
    "import mogp_emulator\n",
    "import numpy as np\n",
    "import matplotlib.pyplot as plt\n",
    "import scipy\n",
    "from scipy.integrate import solve_ivp\n",
    "\n",
    "%matplotlib widget"
   ]
  },
  {
   "cell_type": "markdown",
   "id": "5c5aef48",
   "metadata": {},
   "source": [
    "## Simulator code\n",
    "\n",
    "We will use an amended version of the [tutorial](https://mogp-emulator.readthedocs.io/en/latest/intro/tutorial.html) from the MOGP documentation as our example.\n",
    "- Measurement error is added to the output, as $\\mathcal{N}(0, 20)$. (Later, we will make this vary with distance)\n",
    "- Optionally, one of the two inputs (drag coefficient and initial velocity) can be held constant."
   ]
  },
  {
   "cell_type": "code",
   "execution_count": null,
   "id": "ad83efec",
   "metadata": {},
   "outputs": [],
   "source": [
    "def f(t, y, c):\n",
    "    \"Compute RHS of system of differential equations, returning vector derivative\"\n",
    "\n",
    "    # check inputs and extract\n",
    "\n",
    "    assert len(y) == 4\n",
    "    assert c >= 0.\n",
    "\n",
    "    vx = y[0]\n",
    "    vy = y[1]\n",
    "\n",
    "    # calculate derivatives\n",
    "\n",
    "    dydt = np.zeros(4)\n",
    "\n",
    "    dydt[0] = -c*vx*np.sqrt(vx**2 + vy**2)\n",
    "    dydt[1] = -9.8 - c*vy*np.sqrt(vx**2 + vy**2)\n",
    "    dydt[2] = vx\n",
    "    dydt[3] = vy\n",
    "\n",
    "    return dydt\n",
    "\n",
    "def event(t, y, c):\n",
    "    \"event to trigger end of integration\"\n",
    "\n",
    "    assert len(y) == 4\n",
    "    assert c >= 0.\n",
    "\n",
    "    return y[3]\n",
    "\n",
    "event.terminal = True\n",
    "\n",
    "def simulator(x, c=None, v0=None, error_sigma=None, error_changepoint=None):\n",
    "    \"simulator to solve ODE system for projectile motion with drag. returns distance projectile travels\"\n",
    "\n",
    "    assert len(x) == 1 or len(x) == 2\n",
    "    if error_changepoint is not None:\n",
    "        assert error_sigma is not None\n",
    "\n",
    "    # unpack values\n",
    "    if len(x) == 2 and c is None and v0 is None:\n",
    "        c = 10.**x[0]\n",
    "        v0 = x[1]\n",
    "    elif len(x) == 1 and isinstance(c, float) and v0 is None:\n",
    "        c = 10.**c\n",
    "        v0 = x[0]\n",
    "    elif len(x) == 1 and c is None and isinstance(v0, float):\n",
    "        c = 10.**x[0]\n",
    "    else:\n",
    "        raise Exception(\"Expected x of length 2, or of length 1 with one of c or v0 specified\")\n",
    "    \n",
    "    assert v0 > 0.\n",
    "\n",
    "    # set initial conditions\n",
    "    y0 = np.zeros(4)\n",
    "\n",
    "    y0[0] = v0/np.sqrt(2.)\n",
    "    y0[1] = v0/np.sqrt(2.)\n",
    "    y0[3] = 2.\n",
    "\n",
    "    # run simulation\n",
    "    results = solve_ivp(f, (0., 1.e8), y0, events=event, args = (c,))\n",
    "    \n",
    "    distance = results.y_events[0][0][2]\n",
    "    if error_sigma is not None:\n",
    "        measurement_error = np.random.normal(0, error_sigma)\n",
    "        if error_changepoint is not None:\n",
    "            measurement_error = measurement_error * distance / error_changepoint\n",
    "        distance = distance + measurement_error\n",
    "\n",
    "    return distance\n",
    "\n",
    "def print_results(inputs, predictions):\n",
    "    \"convenience function for printing out results and computing mean square error\"\n",
    "\n",
    "    print(\"Target Point                   Predicted mean            Actual Value\")\n",
    "    print(\"------------------------------------------------------------------------------\")\n",
    "\n",
    "    error = 0.\n",
    "\n",
    "    for pp, m in zip(inputs, predictions):\n",
    "        trueval = simulator(pp)\n",
    "        print(\"{}      {}       {}\".format(pp, m, simulator(pp)))\n",
    "        error += (trueval - m)**2\n",
    "\n",
    "    print(\"\\nMean squared error: {}\".format(np.sqrt(error)/len(predictions)))    "
   ]
  },
  {
   "cell_type": "markdown",
   "id": "4ac202d2",
   "metadata": {},
   "source": [
    "## Fit and validate an example GP\n",
    "\n",
    "Use two parameters, and in this case we'll only take one sample at each design point.\n",
    "This should let us fit a GP without any numerical issues (although we may not see a particularly good fit yet)."
   ]
  },
  {
   "cell_type": "code",
   "execution_count": null,
   "id": "735e0370",
   "metadata": {},
   "outputs": [],
   "source": [
    "# Choose our design points\n",
    "lhd = mogp_emulator.LatinHypercubeDesign([(-5., 1.), (0., 1000.)])\n",
    "\n",
    "# Perform 50 simulations with an imperfect measurement system (noise of N(0,20) at each point)\n",
    "n_simulations = 50\n",
    "simulation_points = lhd.sample(n_simulations)\n",
    "simulation_output = np.array([simulator(p, error_sigma=20) for p in simulation_points])"
   ]
  },
  {
   "cell_type": "code",
   "execution_count": null,
   "id": "9021b4e4-75c1-401a-9b1c-1b77fd05aa17",
   "metadata": {},
   "outputs": [],
   "source": [
    "# Plot the distribution of the design points\n",
    "fig_ex_gp = plt.figure()\n",
    "\n",
    "ax_ex_gp_design = fig_ex_gp.add_subplot(1,2,1)\n",
    "ax_ex_gp_design.scatter(simulation_points[:,0], simulation_points[:,1], s=20)\n",
    "plt.xlabel(\"drag coefficient, $\\log_{10}(c)$\")\n",
    "plt.ylabel(\"initial velocity, $v_0$\")\n",
    "plt.title(\"Coverage of parameter space\\nby design points\");\n",
    "\n",
    "ax_ex_gp_train = fig_ex_gp.add_subplot(1,2,2,projection='3d')\n",
    "ax_ex_gp_train.scatter(simulation_points[:,0], simulation_points[:,1], simulation_output)\n",
    "ax_ex_gp_train.set_xlabel(\"drag coefficient\\n$\\log_{10}(c)$\")\n",
    "ax_ex_gp_train.set_ylabel(\"initial velocity\\n$v_0$\")\n",
    "ax_ex_gp_train.set_zlabel(\"distance\")\n",
    "plt.title(\"Simulated distance travelled\");"
   ]
  },
  {
   "cell_type": "code",
   "execution_count": null,
   "id": "9e8960a5",
   "metadata": {},
   "outputs": [],
   "source": [
    "# Fit the GP\n",
    "gp = mogp_emulator.GaussianProcess(simulation_points, simulation_output)\n",
    "gp = mogp_emulator.fit_GP_MAP(gp)\n",
    "\n",
    "print(\"Correlation lengths = {}\".format(np.sqrt(np.exp(-gp.theta[:2]))))\n",
    "print(\"Sigma = {}\".format(np.sqrt(np.exp(gp.theta[2]))))"
   ]
  },
  {
   "cell_type": "code",
   "execution_count": null,
   "id": "85f9a550",
   "metadata": {},
   "outputs": [],
   "source": [
    "# Validate the GP\n",
    "n_valid = 10\n",
    "validation_points = lhd.sample(n_valid)\n",
    "validation_output = np.array([simulator(p) for p in validation_points])\n",
    "\n",
    "predictions = gp.predict(validation_points)\n",
    "\n",
    "print_results(validation_points, predictions.mean)"
   ]
  },
  {
   "cell_type": "code",
   "execution_count": null,
   "id": "6040f539-7afc-47ed-ac88-787501d3c9b2",
   "metadata": {},
   "outputs": [],
   "source": [
    "fig_ex = plt.figure()\n",
    "ax_ex_gp = fig_ex.add_subplot(1,1,1,projection='3d')\n",
    "ax_ex_gp.scatter(validation_points[:,0], validation_points[:,1], validation_output, c=\"blue\")\n",
    "ax_ex_gp.scatter(validation_points[:,0], validation_points[:,1], predictions.mean, c=\"orange\")\n",
    "ax_ex_gp.scatter(simulation_points[:,0], simulation_points[:,1], np.zeros_like(simulation_points[:,0]), c=\"black\", marker=\".\", alpha=0.3)\n",
    "# ax_ex_gp.scatter(validation_points[:,0], validation_points[:,1], predictions.mean + predictions.unc, c=\"orange\", marker=\".\")\n",
    "# ax_ex_gp.scatter(validation_points[:,0], validation_points[:,1], predictions.mean - predictions.unc, c=\"orange\", marker=\".\")\n",
    "\n",
    "ax_ex_gp.set_xlabel(\"drag coefficient\\n$\\log_{10}(c)$\")\n",
    "ax_ex_gp.set_ylabel(\"initial velocity\\n$v_0$\")\n",
    "ax_ex_gp.set_zlabel(\"distance\")\n",
    "plt.legend([\"simulation\", \"prediction\", \"training point\"])\n",
    "plt.title(\"Evaluation of emulator distance travelled\");"
   ]
  },
  {
   "cell_type": "markdown",
   "id": "17ea69ec-62b6-4891-9c09-8f1e290562d7",
   "metadata": {},
   "source": [
    "After re-running the section above several times, the influence of the initial training points is very apparent.\n",
    "Ranges of <100 to over 1000 have been generated for the mean squared error (given just above the previous figure), with the largest errors being linked to validation points outside of the initial design points."
   ]
  },
  {
   "cell_type": "markdown",
   "id": "c5702a00",
   "metadata": {},
   "source": [
    "## One-parameter simulation with repeated design points\n",
    "\n",
    "We'll now perform several runs of the simulation at each design point, so that we get some constant noise on our results (distance travelled)."
   ]
  },
  {
   "cell_type": "code",
   "execution_count": null,
   "id": "acace0bc",
   "metadata": {},
   "outputs": [],
   "source": [
    "# Choose our design points for v0 only\n",
    "lhd = mogp_emulator.LatinHypercubeDesign([(0., 1000.)])\n",
    "\n",
    "# Perform 50 simulations x 5 repeats with c fixed at 0.1\n",
    "n_simulations = 50\n",
    "n_repeats = 5\n",
    "const_c = -2.0\n",
    "simulation_points = np.repeat(lhd.sample(n_simulations), n_repeats, axis=0)\n",
    "simulation_output = np.array([simulator(p, c=const_c, error_sigma=20) for p in simulation_points])"
   ]
  },
  {
   "cell_type": "code",
   "execution_count": null,
   "id": "8a972c64",
   "metadata": {},
   "outputs": [],
   "source": [
    "fig_one_par = plt.figure()\n",
    "\n",
    "plt.scatter(simulation_points, simulation_output, marker=\".\");\n",
    "plt.xlabel(\"initial velocity, v0\");\n",
    "plt.ylabel(\"distance travelled\");"
   ]
  },
  {
   "cell_type": "code",
   "execution_count": null,
   "id": "895ef805",
   "metadata": {},
   "outputs": [],
   "source": [
    "# Fit the GPs\n",
    "\n",
    "gpa = mogp_emulator.GaussianProcess(simulation_points, simulation_output, nugget=\"adaptive\")\n",
    "gpa = mogp_emulator.fit_GP_MAP(gpa)\n",
    "\n",
    "gpf = mogp_emulator.GaussianProcess(simulation_points, simulation_output, nugget=\"fit\")\n",
    "gpf = mogp_emulator.fit_GP_MAP(gpf)\n",
    "\n",
    "print(\"Correlation lengths (adaptive) = {}\".format(np.sqrt(np.exp(-gpa.theta[:2]))))\n",
    "print(\"Sigma (adaptive) = {}\".format(np.sqrt(np.exp(gpa.theta[2]))))\n",
    "\n",
    "print(\"Correlation lengths (fit) = {}\".format(np.sqrt(np.exp(-gpf.theta[:2]))))\n",
    "print(\"Sigma (fit) = {}\".format(np.sqrt(np.exp(gpf.theta[2]))))"
   ]
  },
  {
   "cell_type": "code",
   "execution_count": null,
   "id": "384c065e",
   "metadata": {},
   "outputs": [],
   "source": [
    "# Validate the GPs\n",
    "# Note on the include_nugget flag: we set it to False here as our nugget is being used to capture the obervational error\n",
    "\n",
    "n_valid = 20\n",
    "validation_points = lhd.sample(n_valid)\n",
    "validation_output = np.array([simulator(p, c=const_c) for p in validation_points])\n",
    "validation_order = np.argsort(validation_points.flatten())    # used for plotting later\n",
    "\n",
    "predictionsa = gpa.predict(validation_points, include_nugget=False)\n",
    "predictionsf = gpf.predict(validation_points, include_nugget=False)"
   ]
  },
  {
   "cell_type": "code",
   "execution_count": null,
   "id": "f1d4bff8",
   "metadata": {},
   "outputs": [],
   "source": [
    "fig_one_par_gp = plt.figure()\n",
    "\n",
    "plt.scatter(simulation_points, simulation_output, marker=\".\");\n",
    "plt.scatter(validation_points, predictionsa.mean);\n",
    "plt.scatter(validation_points, predictionsf.mean);\n",
    "plt.xlabel(\"initial velocity, $v_0$\");\n",
    "plt.ylabel(\"distance travelled\");\n",
    "plt.title(\"Emulation of system with unknown $v_0$\\nusing different nugget selection techniques\")\n",
    "plt.legend(labels=[\"simulation,\", \"emulation (adaptive nugget)\", \"emulation (fit nugget)\"], loc=\"lower right\", bbox_to_anchor=(0.97,0.03));"
   ]
  },
  {
   "cell_type": "code",
   "execution_count": null,
   "id": "1f8abca4",
   "metadata": {},
   "outputs": [],
   "source": [
    "fig_one_par_a = plt.figure()\n",
    "\n",
    "uppera = predictionsa.mean + predictionsa.unc\n",
    "lowera = predictionsa.mean - predictionsa.unc\n",
    "\n",
    "plt.scatter(simulation_points, simulation_output, marker=\".\", color=\"k\");\n",
    "plt.fill_between(validation_points.flatten()[validation_order], lowera[validation_order], uppera[validation_order], alpha=0.3, color=\"g\");\n",
    "plt.scatter(validation_points, predictionsa.mean, marker=\"o\", color=\"g\");\n",
    "plt.xlabel(\"initial velocity, $v_0$\");\n",
    "plt.ylabel(\"distance travelled\");\n",
    "plt.title(\"Emulation of system with unknown $v_0$\\nusing adaptive nugget\")\n",
    "plt.legend(labels=[\"simulation (training)\", \"uncertainty\", \"emulation\"], loc=\"lower right\", bbox_to_anchor=(0.97,0.03));"
   ]
  },
  {
   "cell_type": "code",
   "execution_count": null,
   "id": "acc236d7",
   "metadata": {},
   "outputs": [],
   "source": [
    "fig_one_par_f = plt.figure()\n",
    "\n",
    "upperf = predictionsf.mean + predictionsf.unc\n",
    "lowerf = predictionsf.mean - predictionsf.unc\n",
    "\n",
    "plt.scatter(simulation_points, simulation_output, marker=\".\", color=\"k\");\n",
    "plt.fill_between(validation_points.flatten()[validation_order], lowerf[validation_order], upperf[validation_order], alpha=0.3, color=\"b\");\n",
    "plt.scatter(validation_points, predictionsf.mean, marker=\"o\", color=\"b\");\n",
    "plt.xlabel(\"initial velocity, $v_0$\");\n",
    "plt.ylabel(\"distance travelled\");\n",
    "plt.title(\"Emulation of system with unknown $v_0$\\nusing fit nugget\")\n",
    "plt.legend(labels=[\"simulation (training)\", \"uncertainty\", \"emulation\"], loc=\"lower right\", bbox_to_anchor=(0.97,0.03));"
   ]
  },
  {
   "cell_type": "markdown",
   "id": "be090736-b149-4d39-8338-3962d5dda47b",
   "metadata": {},
   "source": [
    "## One-parameter simulation with repeated design points and non-constant noise\n",
    "\n",
    "Let's now extend the stochasticity in the model beyond a simple constant noise term on the final measurement.\n",
    "We'll perform the same analysis as in the previous section, but make the noise dependent on the distance travelled: the measurement will become less accurate the further the projectile goes."
   ]
  },
  {
   "cell_type": "code",
   "execution_count": null,
   "id": "b6842f08-c280-4f10-b360-274cc942ec9a",
   "metadata": {},
   "outputs": [],
   "source": [
    "# Choose our design points for v0 only\n",
    "lhd_ncn = mogp_emulator.LatinHypercubeDesign([(0., 1000.)])\n",
    "\n",
    "# Perform 50 simulations x 5 repeats with c fixed at 0.1\n",
    "n_simulations = 50\n",
    "n_repeats = 5\n",
    "const_c = -2.0\n",
    "simulation_points_ncn = np.repeat(lhd.sample(n_simulations), n_repeats, axis=0)\n",
    "simulation_output_ncn = np.array([simulator(p, c=const_c, error_sigma=20, error_changepoint=300) for p in simulation_points_ncn])"
   ]
  },
  {
   "cell_type": "code",
   "execution_count": null,
   "id": "e51f32ea-8c8a-4d6d-b023-a2cc7cb3f46b",
   "metadata": {},
   "outputs": [],
   "source": [
    "fig_ncn = plt.figure()\n",
    "\n",
    "plt.scatter(simulation_points_ncn, simulation_output_ncn, marker=\".\");\n",
    "plt.xlabel(\"initial velocity, v0\");\n",
    "plt.ylabel(\"distance travelled\");"
   ]
  },
  {
   "cell_type": "code",
   "execution_count": null,
   "id": "044b7c2e-2e9b-4175-8599-558e7f54c4de",
   "metadata": {},
   "outputs": [],
   "source": [
    "gpf_ncn = mogp_emulator.GaussianProcess(simulation_points_ncn, simulation_output_ncn, nugget=\"fit\")\n",
    "gpf_ncn = mogp_emulator.fit_GP_MAP(gpf_ncn)\n",
    "\n",
    "print(\"Correlation lengths (fit) = {}\".format(np.sqrt(np.exp(-gpf_ncn.theta[:2]))))\n",
    "print(\"Sigma (fit) = {}\".format(np.sqrt(np.exp(gpf_ncn.theta[2]))))"
   ]
  },
  {
   "cell_type": "code",
   "execution_count": null,
   "id": "3126dfa2-df3e-48a7-b475-d3bb876a779e",
   "metadata": {},
   "outputs": [],
   "source": [
    "n_valid = 20\n",
    "validation_points_ncn = lhd_ncn.sample(n_valid)\n",
    "validation_output_ncn = np.array([simulator(p, c=const_c) for p in validation_points_ncn])\n",
    "validation_order_ncn = np.argsort(validation_points_ncn.flatten())    # used for plotting later\n",
    "\n",
    "predictionsf_ncn = gpf_ncn.predict(validation_points_ncn, include_nugget=False)"
   ]
  },
  {
   "cell_type": "code",
   "execution_count": null,
   "id": "2fa3739a-3ddf-41d3-9d50-38d563fce186",
   "metadata": {},
   "outputs": [],
   "source": [
    "fig_ncn_f = plt.figure()\n",
    "\n",
    "upperf_ncn = predictionsf_ncn.mean + predictionsf_ncn.unc\n",
    "lowerf_ncn = predictionsf_ncn.mean - predictionsf_ncn.unc\n",
    "\n",
    "plt.scatter(simulation_points_ncn, simulation_output_ncn, marker=\".\", color=\"k\");\n",
    "plt.fill_between(validation_points_ncn.flatten()[validation_order_ncn], lowerf_ncn[validation_order_ncn], upperf_ncn[validation_order_ncn], alpha=0.3, color=\"orange\");\n",
    "plt.scatter(validation_points_ncn, predictionsf_ncn.mean, marker=\"o\", color=\"orange\");\n",
    "plt.xlabel(\"initial velocity, $v_0$\");\n",
    "plt.ylabel(\"distance travelled\");\n",
    "plt.title(\"Emulation of system with unknown $v_0$\\nand non-constant noise using fit nugget\")\n",
    "plt.legend(labels=[\"simulation (training)\", \"uncertainty\", \"emulation\"], loc=\"lower right\", bbox_to_anchor=(0.97,0.03));"
   ]
  },
  {
   "cell_type": "markdown",
   "id": "f10184c0-0fa8-42fe-b14b-04a4bb2f5476",
   "metadata": {},
   "source": [
    "The uncertainty estimate appears similar to that in the previous section, despite the noise being markedly different as the value of $v_0$ changes.\n",
    "We will therefore need a more advanced way of modelling the noise if we are to use a GP to emulate this system."
   ]
  },
  {
   "cell_type": "markdown",
   "id": "4658e655-ca54-48bb-8ab5-cccc1a68fed3",
   "metadata": {},
   "source": [
    "## One-parameter GP with non-constant noise and non-repeated design points\n",
    "\n",
    "A quick check here to see what effect non-repeated design points have on the uncertainty bounds.\n",
    "We'll use two numbers of design points: the total number used in the set above, and the total number of $v_0$ values from the set above (i.e. without the repeats)."
   ]
  },
  {
   "cell_type": "code",
   "execution_count": null,
   "id": "f548bf0b-cc18-4b12-abdb-00610da089a0",
   "metadata": {},
   "outputs": [],
   "source": [
    "# Use the lhd from the previous section\n",
    "simulation_points_nrd = lhd.sample(n_simulations)\n",
    "simulation_points_nrd_rep = lhd.sample(n_simulations * n_repeats)\n",
    "\n",
    "simulation_output_nrd = np.array([simulator(p, c=const_c, error_sigma=20, error_changepoint=300) for p in simulation_points_nrd])\n",
    "simulation_output_nrd_rep = np.array([simulator(p, c=const_c, error_sigma=20, error_changepoint=300) for p in simulation_points_nrd_rep])"
   ]
  },
  {
   "cell_type": "code",
   "execution_count": null,
   "id": "e70e6469-1999-4fe9-89f6-7f1fe863670c",
   "metadata": {},
   "outputs": [],
   "source": [
    "gpf_nrd = mogp_emulator.GaussianProcess(simulation_points_nrd, simulation_output_nrd, nugget=\"fit\")\n",
    "gpf_nrd = mogp_emulator.fit_GP_MAP(gpf_nrd)\n",
    "\n",
    "gpf_nrd_rep = mogp_emulator.GaussianProcess(simulation_points_nrd_rep, simulation_output_nrd_rep, nugget=\"fit\")\n",
    "gpf_nrd_rep = mogp_emulator.fit_GP_MAP(gpf_nrd_rep)\n",
    "\n",
    "print(\"Correlation lengths ({} points) = {}\".format(n_simulations, np.sqrt(np.exp(-gpf_nrd.theta[:2]))))\n",
    "print(\"Sigma ({} points) = {}\".format(n_simulations, np.sqrt(np.exp(gpf_nrd.theta[2]))))\n",
    "\n",
    "print(\"Correlation lengths ({} points) = {}\".format(n_simulations * n_repeats, np.sqrt(np.exp(-gpf_nrd_rep.theta[:2]))))\n",
    "print(\"Sigma ({} points) = {}\".format(n_simulations * n_repeats, np.sqrt(np.exp(gpf_nrd_rep.theta[2]))))"
   ]
  },
  {
   "cell_type": "code",
   "execution_count": null,
   "id": "5cd2aa71-0894-4073-a327-64af830f182b",
   "metadata": {},
   "outputs": [],
   "source": [
    "n_valid = 20\n",
    "validation_points_nrd = lhd_ncn.sample(n_valid)\n",
    "validation_output_nrd = np.array([simulator(p, c=const_c) for p in validation_points_nrd])\n",
    "validation_order_nrd = np.argsort(validation_points_nrd.flatten())    # used for plotting later\n",
    "\n",
    "predictionsf_nrd = gpf_nrd.predict(validation_points_nrd, include_nugget=False)\n",
    "predictionsf_nrd_rep = gpf_nrd_rep.predict(validation_points_nrd, include_nugget=False)"
   ]
  },
  {
   "cell_type": "code",
   "execution_count": null,
   "id": "53a3285d-ac82-4c9c-ab1d-2c13533e0fea",
   "metadata": {},
   "outputs": [],
   "source": [
    "fig_nrd = plt.figure()\n",
    "\n",
    "upperf_nrd = predictionsf_nrd.mean + predictionsf_nrd.unc\n",
    "lowerf_nrd = predictionsf_nrd.mean - predictionsf_nrd.unc\n",
    "\n",
    "ax_nrd = fig_nrd.add_subplot(1,2,1)\n",
    "plt.scatter(simulation_points_nrd, simulation_output_nrd, marker=\".\", color=\"k\");\n",
    "plt.fill_between(validation_points_nrd.flatten()[validation_order_nrd], lowerf_nrd[validation_order_nrd], upperf_nrd[validation_order_nrd], alpha=0.3, color=\"orange\");\n",
    "plt.scatter(validation_points_nrd, predictionsf_nrd.mean, marker=\"o\", color=\"orange\");\n",
    "plt.xlabel(\"initial velocity, $v_0$\");\n",
    "plt.ylabel(\"distance travelled\");\n",
    "plt.title(\"Non-repeated design points:\\nSame # $v_0$ values as above\")\n",
    "plt.legend(labels=[\"simulation (training)\", \"uncertainty\", \"emulation\"], loc=\"lower right\", bbox_to_anchor=(0.97,0.03));\n",
    "\n",
    "upperf_nrd_rep = predictionsf_nrd_rep.mean + predictionsf_nrd_rep.unc\n",
    "lowerf_nrd_rep = predictionsf_nrd_rep.mean - predictionsf_nrd_rep.unc\n",
    "\n",
    "ax_nrd = fig_nrd.add_subplot(1,2,2)\n",
    "plt.scatter(simulation_points_nrd_rep, simulation_output_nrd_rep, marker=\".\", color=\"k\");\n",
    "plt.fill_between(validation_points_nrd.flatten()[validation_order_nrd], lowerf_nrd_rep[validation_order_nrd], upperf_nrd_rep[validation_order_nrd], alpha=0.3, color=\"orange\");\n",
    "plt.scatter(validation_points_nrd, predictionsf_nrd_rep.mean, marker=\"o\", color=\"orange\");\n",
    "plt.xlabel(\"initial velocity, $v_0$\");\n",
    "plt.title(\"Non-repeated design points:\\nSame # as above\")\n",
    "plt.legend(labels=[\"simulation (training)\", \"uncertainty\", \"emulation\"], loc=\"lower right\", bbox_to_anchor=(0.97,0.03));"
   ]
  }
 ],
 "metadata": {
  "kernelspec": {
   "display_name": "Python 3 (ipykernel)",
   "language": "python",
   "name": "python3"
  },
  "language_info": {
   "codemirror_mode": {
    "name": "ipython",
    "version": 3
   },
   "file_extension": ".py",
   "mimetype": "text/x-python",
   "name": "python",
   "nbconvert_exporter": "python",
   "pygments_lexer": "ipython3",
   "version": "3.9.9"
  }
 },
 "nbformat": 4,
 "nbformat_minor": 5
}
