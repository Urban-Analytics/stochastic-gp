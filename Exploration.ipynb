{
 "cells": [
  {
   "cell_type": "markdown",
   "metadata": {},
   "source": [
    "# Exploration of the deterministic BusSim model"
   ]
  },
  {
   "cell_type": "code",
   "execution_count": null,
   "metadata": {},
   "outputs": [],
   "source": [
    "from BusSim_deterministic import run_model\n",
    "from IPython.display import HTML    # for animation\n",
    "import numpy as np\n",
    "import matplotlib\n",
    "import matplotlib.pyplot as plt\n",
    "import mogp_emulator\n",
    "\n",
    "# Increase default figure size\n",
    "plt.rcParams[\"figure.figsize\"] = [12, 6]\n",
    "plt.rcParams[\"font.size\"] = 16"
   ]
  },
  {
   "cell_type": "markdown",
   "metadata": {},
   "source": [
    "## Set up the model\n",
    "\n",
    "We'll run the model with a sensible set of default parameters, as used in earlier simulations in this project.\n",
    "The two that we will investigate in more detail are **traffic speed** and **arrival rate**.\n",
    "\n",
    "**Traffic speed** does what it says - it gives the speed of the buses when they travel between the stops.\n",
    "\n",
    "\n",
    "**Arrival rate** is more complex.\n",
    "In the default case, it is constant at each stop over time.\n",
    "However, the stops have different values, set randomly at the beginning of the simulation.\n",
    "It determines how many people wait at each stop.\n",
    "When we investigate the parameter more thoroughly further down in this notebook we will use a different (although still constant with time) rate at each stop; for now, we use the same rate at all stops."
   ]
  },
  {
   "cell_type": "code",
   "execution_count": null,
   "metadata": {},
   "outputs": [],
   "source": [
    "def run_model_w_params(ArrivalRate=None, TrafficSpeed=14, bus_ids_out=[0, 1, 2], seed=123, maxDemand=2, DEBUG=False):\n",
    "    # Hold most parameters constant, apart from the two (TrafficSpeed and ArrivalRate) that we will investigate in this notebook.\n",
    "    # Outputs are the times at which the buses of the provided IDs (bus_ids_out) reach their final destinations.\n",
    "        \n",
    "    if seed is not None:\n",
    "        np.random.seed(seed) # Make departure rates consistent across all simulations\n",
    "    \n",
    "    NumberOfStop = 20\n",
    "    minDemand = 0.5\n",
    "     \n",
    "    # Initialise the remaining model parameters\n",
    "    model_params = {\n",
    "        \"dt\": 10,\n",
    "        \"minDemand\": minDemand,        \n",
    "        \"NumberOfStop\": NumberOfStop,\n",
    "        \"LengthBetweenStop\": 2000,\n",
    "        \"EndTime\": 6000,\n",
    "        \"Headway\": 5 * 60,\n",
    "        \"BurnIn\": 1 * 60,\n",
    "        \"AlightTime\": 1,\n",
    "        \"BoardTime\": 3,\n",
    "        \"StoppingTime\": 3,\n",
    "        \"BusAcceleration\": 3\n",
    "    }\n",
    "    \n",
    "    if ArrivalRate is None:\n",
    "        ArrivalRate = np.random.uniform(minDemand / 60, maxDemand / 60, NumberOfStop) \n",
    "    else:\n",
    "        ArrivalRate = ArrivalRate * np.ones(NumberOfStop)\n",
    "        \n",
    "    DepartureRate = np.sort(np.random.uniform(0.05, 0.5, NumberOfStop)) # Sorted as more passengers get off near the end of the route\n",
    "\n",
    "    # Run the model with all plots turned off (some still produced as default; we turn them off with %%capture later)\n",
    "    model, model_params, ArrivalData, StateData, GroundTruth, GPSData = \\\n",
    "        run_model(model_params, TrafficSpeed, ArrivalRate, DepartureRate, False, False, False, True)\n",
    "        \n",
    "    bus_pos = np.array([bus.trajectory for bus in model.buses])    \n",
    "    time = np.arange(0, model.EndTime, model.dt)\n",
    "    total_distance = model_params[\"NumberOfStop\"] * model_params[\"LengthBetweenStop\"]\n",
    "\n",
    "    bus_t_end = [time[np.argmax(bp>=total_distance)] for bp in bus_pos]\n",
    "    bus_end_times = [bus_t_end[id] for id in bus_ids_out]\n",
    "    \n",
    "    if DEBUG:\n",
    "        print(bus_t_end)\n",
    "    \n",
    "    return bus_end_times, GPSData"
   ]
  },
  {
   "cell_type": "markdown",
   "metadata": {},
   "source": [
    "## Vary traffic speed\n",
    "\n",
    "Perform a parameter sweep over one variable, the traffic speed.\n",
    "We'll capture a few variations on the same output: the time at which the buses listed in `ts_bus_ids` reaches their final destination.\n",
    "(Later on, we'll see if we can predict those times using a GP.)"
   ]
  },
  {
   "cell_type": "code",
   "execution_count": null,
   "metadata": {},
   "outputs": [],
   "source": [
    "%%capture\n",
    "\n",
    "ts_bus_ids = [0, 1, 2, 3, 6, 9]\n",
    "\n",
    "traffic_speeds = np.arange(15, 50, 2.5)\n",
    "ts_bus_end_times = np.zeros((len(traffic_speeds), len(ts_bus_ids)))\n",
    "\n",
    "for ind, ts in enumerate(traffic_speeds):\n",
    "    bus_end_t, _ = run_model_w_params(TrafficSpeed=ts, bus_ids_out=ts_bus_ids)\n",
    "    ts_bus_end_times[ind,:] = bus_end_t"
   ]
  },
  {
   "cell_type": "code",
   "execution_count": null,
   "metadata": {},
   "outputs": [],
   "source": [
    "plt.plot(traffic_speeds, ts_bus_end_times, marker=\".\", linestyle=\"\")\n",
    "plt.xlabel(\"Traffic speed\")\n",
    "plt.ylabel(\"Time at final destination\")\n",
    "plt.legend(labels=[\"bus \" + str(id) for id in ts_bus_ids], loc=\"right\")\n",
    "plt.show()"
   ]
  },
  {
   "cell_type": "markdown",
   "metadata": {},
   "source": [
    "Most of the buses in this investigation have a relatively consistent relationship between final arrival time and traffic speed: at low speeds, they take longer and as speed increases they reach their destination faster, up until a point where increasing the speed has very little further effect.\n",
    "\n",
    "The first buses to depart show more interesting variation with traffic speed, where at some (especially higher) traffic speeds the second bus overtakes the first after catching up with it at a stop."
   ]
  },
  {
   "cell_type": "markdown",
   "metadata": {},
   "source": [
    "## Vary the maximum demand\n",
    "\n",
    "We'll now try a more complex case - we'll vary how busy the bus service is by altering the maximum demand.\n",
    "\n",
    "Demand at the individual stops was set randomly in the previous example, but was held constant at each stop over time as the traffic speed was varied.\n",
    "\n",
    "We'll first try using the same demand at each stop, and later on try randomised demand levels as before, with a varying upper limit."
   ]
  },
  {
   "cell_type": "code",
   "execution_count": null,
   "metadata": {},
   "outputs": [],
   "source": [
    "%%capture\n",
    "# Prevent plots from showing - uncalibrated setting generates one per model\n",
    "\n",
    "md_bus_ids = [0, 1, 2, 3, 4, 5, 6]\n",
    "\n",
    "max_demand = np.arange(0.25, 5.0, 0.25)\n",
    "md_bus_end_times = np.zeros((len(max_demand), len(md_bus_ids)))\n",
    "\n",
    "\n",
    "for ind, max_dem in enumerate(max_demand): \n",
    "    print(\"Maximum demand: \", max_dem)\n",
    "    \n",
    "    ArrivalRate = max_dem/60\n",
    "    \n",
    "    bus_end_t, _ = run_model_w_params(ArrivalRate, bus_ids_out=md_bus_ids)\n",
    "    md_bus_end_times[ind,:] = bus_end_t"
   ]
  },
  {
   "cell_type": "code",
   "execution_count": null,
   "metadata": {},
   "outputs": [],
   "source": [
    "plt.plot(max_demand, md_bus_end_times, marker=\".\", linestyle=\"\")\n",
    "plt.xlabel(\"Maximum (constant) demand\")\n",
    "plt.ylabel(\"Time at final destination\")\n",
    "plt.legend(labels=[\"bus \" + str(id) for id in md_bus_ids], loc=\"lower right\")\n",
    "plt.show()"
   ]
  },
  {
   "cell_type": "markdown",
   "metadata": {},
   "source": [
    "## Using GPs to emulate time at final destination based on traffic speed\n",
    "\n",
    "We'll try to emulate relatively simple outputs at first, sticking to only a few for each of our investigations.\n",
    "In the first attempt at using the emulator, we'll attempt to emulate the time that buses 0, 4 and 9 (or the buses listed in `ts_bus_ids`, if altered) arrive at their final destination for different values of traffic speed.\n",
    "\n",
    "We'll provide fewer input points than we show in the plot above, and see how it performs."
   ]
  },
  {
   "cell_type": "code",
   "execution_count": null,
   "metadata": {},
   "outputs": [],
   "source": [
    "%%capture\n",
    "lhd = mogp_emulator.LatinHypercubeDesign([(15.0, 50.0)])\n",
    "\n",
    "n_simulations = 4\n",
    "lhd_traffic_speeds = lhd.sample(n_simulations)\n",
    "print(lhd_traffic_speeds)\n",
    "\n",
    "ts_simulation_output = np.zeros((len(ts_bus_ids), n_simulations))\n",
    "\n",
    "for ind, ts in enumerate(lhd_traffic_speeds):\n",
    "    sim_out, _ = run_model_w_params(TrafficSpeed=ts[0], bus_ids_out=ts_bus_ids)\n",
    "    ts_simulation_output[:,ind] = np.array(sim_out)"
   ]
  },
  {
   "cell_type": "markdown",
   "metadata": {},
   "source": [
    "### Fit the GP"
   ]
  },
  {
   "cell_type": "code",
   "execution_count": null,
   "metadata": {},
   "outputs": [],
   "source": [
    "ts_gp = mogp_emulator.MultiOutputGP(lhd_traffic_speeds, ts_simulation_output)\n",
    "ts_gp = mogp_emulator.fit_GP_MAP(ts_gp)"
   ]
  },
  {
   "cell_type": "markdown",
   "metadata": {},
   "source": [
    "### Test out the GP"
   ]
  },
  {
   "cell_type": "code",
   "execution_count": null,
   "metadata": {},
   "outputs": [],
   "source": [
    "%%capture\n",
    "n_validation = 50\n",
    "\n",
    "validation_traffic_speeds = lhd.sample(n_validation)\n",
    "\n",
    "predicted_ts = ts_gp.predict(validation_traffic_speeds)\n",
    "\n",
    "actual_ts = np.zeros((len(ts_bus_ids), n_validation))\n",
    "for ind, ts in enumerate(validation_traffic_speeds):\n",
    "    sim_out, _ = run_model_w_params(TrafficSpeed=ts[0], bus_ids_out=ts_bus_ids)\n",
    "    actual_ts[:,ind] = np.array(sim_out)"
   ]
  },
  {
   "cell_type": "code",
   "execution_count": null,
   "metadata": {},
   "outputs": [],
   "source": [
    "# Set the markers used in the plot\n",
    "plt_mk = { \"train\": \"o\",      # Used to train the GP\n",
    "           \"pred\": \"+\",       # Predicted by the GP\n",
    "           \"sim\": \"x\" }       # Same TS as \"pred\", full simulation\n",
    "plt_mk_legend = [matplotlib.lines.Line2D([0], [0], marker=plt_mk[\"train\"], color=\"w\", label=\"Training\",\n",
    "                 markerfacecolor=\"k\", markeredgecolor=\"k\"), \n",
    "                 matplotlib.lines.Line2D([0], [0], marker=plt_mk[\"pred\"], color=\"w\", label=\"Predicted (GP)\",\n",
    "                 markerfacecolor=\"k\", markeredgecolor=\"k\"), \n",
    "                 matplotlib.lines.Line2D([0], [0], marker=plt_mk[\"sim\"], color=\"w\", label=\"Simulated\",\n",
    "                 markerfacecolor=\"k\", markeredgecolor=\"k\")]"
   ]
  },
  {
   "cell_type": "code",
   "execution_count": null,
   "metadata": {},
   "outputs": [],
   "source": [
    "legend_entries = []\n",
    "\n",
    "for ind, (a, p, u) in enumerate(zip(actual_ts, predicted_ts.mean, predicted_ts.unc)):\n",
    "    plt.plot(validation_traffic_speeds, a, marker=plt_mk[\"sim\"], linestyle=\"\", color=plt.cm.Set1(ind))\n",
    "    plt.plot(validation_traffic_speeds, p, marker=plt_mk[\"pred\"], linestyle=\"\", color=plt.cm.Set1(ind))\n",
    "    plt.plot(lhd_traffic_speeds, ts_simulation_output[ind,], marker=plt_mk[\"train\"], linestyle=\"\", color=plt.cm.Set1(ind))\n",
    "    \n",
    "    legend_entries.append(matplotlib.patches.Patch(facecolor=plt.cm.Set1(ind), edgecolor=None, label=\"Bus {}\".format(ts_bus_ids[ind])))\n",
    "    \n",
    "    o = np.argsort(validation_traffic_speeds, axis=None)\n",
    "    plt.fill_between(validation_traffic_speeds.flatten()[o], p[o]-u[o], p[o]+u[o],\n",
    "                     color=plt.cm.Set1(ind), alpha=0.2, linewidth=0)\n",
    "            \n",
    "plt.xlabel(\"Traffic speed\")\n",
    "plt.ylabel(\"Time at final destination\")\n",
    "plt.legend(handles=legend_entries+plt_mk_legend, loc=\"upper left\", bbox_to_anchor=(1.05, 1))\n",
    "plt.show()"
   ]
  },
  {
   "cell_type": "markdown",
   "metadata": {},
   "source": [
    "Generally, the GP is doing a good job of simulating the final arrival time of each bus.\n",
    "\n",
    "The uncertainty in the prediction of the arrival time of the first bus is particularly interesting, as the bounds are much wider than those of the other buses.\n",
    "Around speeds of 40-45, bus 0 is overtaken by buses 1 and 2, so this increase in uncertainty does make sense."
   ]
  },
  {
   "cell_type": "markdown",
   "metadata": {},
   "source": [
    "## Using GPs to emulate time at final destination based on maximum demand"
   ]
  },
  {
   "cell_type": "code",
   "execution_count": null,
   "metadata": {},
   "outputs": [],
   "source": [
    "%%capture\n",
    "md_lhd = mogp_emulator.LatinHypercubeDesign([(0.25, 5.0)])\n",
    "\n",
    "md_bus_ids = [0, 1, 2, 6]\n",
    "n_simulations = 8\n",
    "md_lhd_sample = md_lhd.sample(n_simulations)\n",
    "\n",
    "md_simulation_output = np.zeros((len(md_bus_ids), n_simulations))\n",
    "\n",
    "for ind, max_dem in enumerate(md_lhd_sample):\n",
    "    ArrivalRate = max_dem[0]/60\n",
    "    sim_out, _ = run_model_w_params(ArrivalRate=ArrivalRate, bus_ids_out=md_bus_ids)\n",
    "    md_simulation_output[:,ind] = np.array(sim_out)"
   ]
  },
  {
   "cell_type": "code",
   "execution_count": null,
   "metadata": {},
   "outputs": [],
   "source": [
    "md_gp = mogp_emulator.MultiOutputGP(md_lhd_sample, md_simulation_output)\n",
    "md_gp = mogp_emulator.fit_GP_MAP(md_gp)"
   ]
  },
  {
   "cell_type": "code",
   "execution_count": null,
   "metadata": {},
   "outputs": [],
   "source": [
    "%%capture\n",
    "n_validation = 50\n",
    "\n",
    "md_validation = md_lhd.sample(n_validation)\n",
    "\n",
    "md_predicted = md_gp.predict(md_validation)\n",
    "\n",
    "md_actual = np.zeros((len(md_bus_ids), n_validation))\n",
    "for ind, max_dem in enumerate(md_validation):\n",
    "    ArrivalRate = max_dem[0]/60\n",
    "    sim_out, _ = run_model_w_params(ArrivalRate=ArrivalRate, bus_ids_out=md_bus_ids)\n",
    "    md_actual[:,ind] = np.array(sim_out)"
   ]
  },
  {
   "cell_type": "code",
   "execution_count": null,
   "metadata": {},
   "outputs": [],
   "source": [
    "legend_entries = []\n",
    "\n",
    "for ind, (a, p, u) in enumerate(zip(md_actual, md_predicted.mean, md_predicted.unc)):\n",
    "    plt.plot(md_validation, a, marker=plt_mk[\"sim\"], linestyle=\"\", color=plt.cm.Set1(ind))\n",
    "    plt.plot(md_validation, p, marker=plt_mk[\"pred\"], linestyle=\"\", color=plt.cm.Set1(ind))\n",
    "    plt.plot(md_lhd_sample, md_simulation_output[ind,], marker=plt_mk[\"train\"], linestyle=\"\", color=plt.cm.Set1(ind))\n",
    "    \n",
    "    legend_entries.append(matplotlib.patches.Patch(facecolor=plt.cm.Set1(ind), edgecolor=None, label=\"Bus {}\".format(md_bus_ids[ind])))\n",
    "   \n",
    "    o = np.argsort(md_validation, axis=None)\n",
    "    plt.fill_between(md_validation.flatten()[o], p[o]-u[o], p[o]+u[o],\n",
    "                     color=plt.cm.Set1(ind), alpha=0.2, linewidth=0)\n",
    "        \n",
    "plt.xlabel(\"Max demand\")\n",
    "plt.ylabel(\"Time at final destination\")\n",
    "plt.legend(handles=legend_entries+plt_mk_legend, loc=\"upper left\", bbox_to_anchor=(1.05, 1))\n",
    "plt.ylim((0, 10000))\n",
    "plt.show()"
   ]
  },
  {
   "cell_type": "markdown",
   "metadata": {},
   "source": [
    "## Using a GP to estimate arrival time at final destination based on two parameters\n",
    "\n",
    "Essentially we'll try the same procedure as before, but this time with two variable parameters.\n",
    "We're looking out for how difficult it is for the GP to still provide a good estimate given that coverage of the parameter space is now going to be far harder."
   ]
  },
  {
   "cell_type": "markdown",
   "metadata": {},
   "source": [
    "As before, we run a set of simulations to train our GP on.\n",
    "We'll take 12 samples from a Latin hypercube to pull out samples which cover the parameter space of traffic speeds of 15-50 and maximum demand at each bus stop of 0.25-5.\n",
    "We then fit the GP and test its performance via comparison of a further set of simulations against corresponding samples from the GP."
   ]
  },
  {
   "cell_type": "code",
   "execution_count": null,
   "metadata": {},
   "outputs": [],
   "source": [
    "%%capture\n",
    "two_lhd = mogp_emulator.LatinHypercubeDesign([(15.0, 50.0), (0.25, 5.0)])\n",
    "\n",
    "two_bus_ids = [0, 1, 2, 6]\n",
    "n_simulations = 12\n",
    "\n",
    "two_train_par = two_lhd.sample(n_simulations)\n",
    "two_train_out = np.zeros((len(two_bus_ids), n_simulations))\n",
    "\n",
    "for ind, par in enumerate(two_train_par):\n",
    "    sim_out, _ = run_model_w_params(ArrivalRate=par[1]/60, TrafficSpeed=par[0], bus_ids_out=two_bus_ids)\n",
    "    two_train_out[:,ind] = np.array(sim_out)"
   ]
  },
  {
   "cell_type": "code",
   "execution_count": null,
   "metadata": {},
   "outputs": [],
   "source": [
    "two_gp = mogp_emulator.MultiOutputGP(two_train_par, two_train_out)\n",
    "two_gp = mogp_emulator.fit_GP_MAP(two_gp)"
   ]
  },
  {
   "cell_type": "code",
   "execution_count": null,
   "metadata": {},
   "outputs": [],
   "source": [
    "%%capture\n",
    "n_validation = 20\n",
    "\n",
    "two_validation_par = two_lhd.sample(n_validation)\n",
    "two_validation_pred = two_gp.predict(two_validation_par)\n",
    "\n",
    "two_validation_actual = np.zeros((len(two_bus_ids), n_validation))\n",
    "for ind, par in enumerate(two_validation_par):\n",
    "    sim_out, _ = run_model_w_params(ArrivalRate=par[1]/60, TrafficSpeed=par[0], bus_ids_out=two_bus_ids)\n",
    "    two_validation_actual[:,ind] = np.array(sim_out)"
   ]
  },
  {
   "cell_type": "markdown",
   "metadata": {},
   "source": [
    "Visualising how well the GP performs is trickier now that we are in two dimensions.\n",
    "First, we'll print out the predicted and simulated final arrival times for one of the buses for a quick manual comparison."
   ]
  },
  {
   "cell_type": "code",
   "execution_count": null,
   "metadata": {},
   "outputs": [],
   "source": [
    "bus_index = 3\n",
    "print(\"Bus %i\\n-----\" % two_bus_ids[bus_index])\n",
    "\n",
    "print(\"traffic speed\\tmax demand\\tprediction\\t\\tactual\")\n",
    "for par, mean, unc, act in zip(two_validation_par, two_validation_pred.mean.T, two_validation_pred.unc.T, two_validation_actual.T):\n",
    "    print(\"%.2f\\t\\t%.2f\\t\\t%.2f +/- %.2f\\t%.2f\" % (par[0], par[1], mean[bus_index], unc[bus_index], act[bus_index]))"
   ]
  },
  {
   "cell_type": "code",
   "execution_count": null,
   "metadata": {},
   "outputs": [],
   "source": [
    "bus_index = 1\n",
    "\n",
    "fig_train = plt.figure()\n",
    "plt.scatter(two_train_par[:,1], two_train_par[:,0], c=two_train_out[bus_index,:], marker=\"o\")\n",
    "\n",
    "plt.xlabel(\"Max demand\")\n",
    "plt.ylabel(\"Traffic speed\")\n",
    "plt.colorbar(label=\"Arrival time (Bus {})\".format(two_bus_ids[bus_index]))\n",
    "xlims = (0, 5)\n",
    "plt.xlim(xlims)\n",
    "plt.show()"
   ]
  },
  {
   "cell_type": "markdown",
   "metadata": {},
   "source": [
    "### Fix constant traffic speed for validation"
   ]
  },
  {
   "cell_type": "code",
   "execution_count": null,
   "metadata": {},
   "outputs": [],
   "source": [
    "%%capture\n",
    "ts_fixed = 40\n",
    "two_validation_par_fix = two_validation_par.copy()\n",
    "two_validation_par_fix[:,0] = ts_fixed\n",
    "\n",
    "two_validation_pred_fix = two_gp.predict(two_validation_par_fix)\n",
    "\n",
    "two_validation_actual_fix = np.zeros((len(two_bus_ids), n_validation))\n",
    "for ind, par in enumerate(two_validation_par_fix):\n",
    "    sim_out, _ = run_model_w_params(ArrivalRate=par[1]/60, TrafficSpeed=ts_fixed, bus_ids_out=two_bus_ids)\n",
    "    two_validation_actual_fix[:,ind] = np.array(sim_out)"
   ]
  },
  {
   "cell_type": "code",
   "execution_count": null,
   "metadata": {},
   "outputs": [],
   "source": [
    "legend_entries = []\n",
    "\n",
    "for ind, (a, p, u) in enumerate(zip(two_validation_actual_fix, two_validation_pred_fix.mean, two_validation_pred_fix.unc)):\n",
    "    plt.plot(two_validation_par_fix[:,1], a, marker=plt_mk[\"sim\"], linestyle=\"\", color=plt.cm.Set1(ind))\n",
    "    plt.plot(two_validation_par_fix[:,1], p, marker=plt_mk[\"pred\"], linestyle=\"\", color=plt.cm.Set1(ind))\n",
    "    # Note that training data hasn't been included here as it was obtained at different values of traffic speed    \n",
    "    \n",
    "    legend_entries.append(matplotlib.patches.Patch(facecolor=plt.cm.Set1(ind), edgecolor=None, label=\"Bus {}\".format(md_bus_ids[ind])))\n",
    "        \n",
    "    o = np.argsort(two_validation_par_fix[:,1], axis=None)\n",
    "    plt.fill_between(two_validation_par_fix[o,1], p[o]-u[o], p[o]+u[o],\n",
    "                     color=plt.cm.Set1(ind), alpha=0.2, linewidth=0)\n",
    "        \n",
    "plt.xlabel(\"Max demand\")\n",
    "plt.ylabel(\"Time at final destination\")\n",
    "plt.title(\"Fixed traffic speed of {}\".format(ts_fixed))\n",
    "plt.legend(handles=legend_entries+plt_mk_legend[1:], loc=\"upper left\", bbox_to_anchor=(1.05, 1))\n",
    "plt.ylim((0, 7000))\n",
    "plt.show()"
   ]
  },
  {
   "cell_type": "markdown",
   "metadata": {},
   "source": [
    "Note that the parameter combinations used to fit the GP may not have had traffic speed set to the fixed value above.\n",
    "\n",
    "For instance, the traffic speed used in the plot above is near the following points used to train the GP:"
   ]
  },
  {
   "cell_type": "code",
   "execution_count": null,
   "metadata": {},
   "outputs": [],
   "source": [
    "fig_train.gca().plot(xlims, [ts_fixed, ts_fixed], color=\"k\", linestyle=\"--\")\n",
    "fig_train"
   ]
  },
  {
   "cell_type": "markdown",
   "metadata": {},
   "source": [
    "### Testing the impact of additional points to train the GP\n",
    "\n",
    "It is clear from the plots above that regions of parameter space without adequate coverage when fitting the GP result in high uncertainties when making predictions using the GP.\n",
    "Interestingly, the mean predictions from the GP are very close to the outputs of the corresponding simulations despite this issue."
   ]
  },
  {
   "cell_type": "code",
   "execution_count": null,
   "metadata": {},
   "outputs": [],
   "source": [
    "%%capture\n",
    "n_consimulations = [8, 16, 32, 64]\n",
    "\n",
    "twocon_gps = []\n",
    "\n",
    "# Fit a GP with each number of input simulations\n",
    "for n in n_consimulations:\n",
    "    twocon_train_par = two_lhd.sample(n)    # Use the LHD from earlier, with limits of 15-50 for traffic speed and 0.25-5 for arrival rate\n",
    "    twocon_train_out = np.zeros((len(two_bus_ids), n))\n",
    "\n",
    "    for ind, par in enumerate(twocon_train_par):\n",
    "        sim_out, _ = run_model_w_params(ArrivalRate=par[1]/60, TrafficSpeed=par[0], bus_ids_out=two_bus_ids)\n",
    "        twocon_train_out[:,ind] = np.array(sim_out)\n",
    "        \n",
    "    twocon_gp = mogp_emulator.MultiOutputGP(twocon_train_par, twocon_train_out)\n",
    "    twocon_gp = mogp_emulator.fit_GP_MAP(twocon_gp)\n",
    "    twocon_gps.append(twocon_gp)"
   ]
  },
  {
   "cell_type": "code",
   "execution_count": null,
   "metadata": {},
   "outputs": [],
   "source": [
    "# Generate the parameter combinations at which we want to test out the GP\n",
    "n_validation = 10\n",
    "twocon_validation_par = two_lhd.sample(n_validation)\n",
    "\n",
    "# Use each GP to predict the arrival times given these parameters\n",
    "twocon_predictions = []\n",
    "for gp in twocon_gps:\n",
    "    twocon_predictions.append(gp.predict(twocon_validation_par))"
   ]
  },
  {
   "cell_type": "code",
   "execution_count": null,
   "metadata": {},
   "outputs": [],
   "source": [
    "%%capture\n",
    "# Perform the full simulation at each of these parameter combinations\n",
    "twocon_validation_actual = np.zeros((len(two_bus_ids), n_validation))\n",
    "twocon_validation_gps = []\n",
    "for ind, par in enumerate(twocon_validation_par):\n",
    "    sim_out, gps = run_model_w_params(ArrivalRate=par[1]/60, TrafficSpeed=par[0], bus_ids_out=two_bus_ids)\n",
    "    twocon_validation_actual[:,ind] = np.array(sim_out)\n",
    "    twocon_validation_gps.append(gps)"
   ]
  },
  {
   "cell_type": "code",
   "execution_count": null,
   "metadata": {},
   "outputs": [],
   "source": [
    "fig, axes = plt.subplots(*twocon_predictions[0].mean.shape, sharex=True, sharey=True)\n",
    "\n",
    "diffs = np.zeros((len(n_consimulations), twocon_predictions[0].mean.shape[0], twocon_predictions[0].mean.shape[1]))\n",
    "for p_ind, preds in enumerate(twocon_predictions):\n",
    "    diffs[p_ind,:, :] = np.abs(preds.mean - twocon_validation_actual)\n",
    "    \n",
    "for bus_ind in range(twocon_predictions[0].mean.shape[0]):\n",
    "    for par_ind in range(twocon_predictions[0].mean.shape[1]):\n",
    "        axes[bus_ind, par_ind].scatter(n_consimulations, diffs[:, bus_ind, par_ind], marker=\"o\")\n",
    "        \n",
    "        if bus_ind == twocon_predictions[0].mean.shape[0] - 1:\n",
    "            axes[bus_ind, par_ind].set(xlabel=f\"TS={twocon_validation_par[par_ind,0]:.1f}\" + \"\\n\" + f\"AR={twocon_validation_par[par_ind,1]:.1f}\")\n",
    "    \n",
    "        if par_ind == 0:\n",
    "            axes[bus_ind, par_ind].set(ylabel=\"Bus \" + str(two_bus_ids[bus_ind]))\n",
    "\n",
    "        \n",
    "fig.supxlabel(\"Number of parameter pairs used to train GP\", y=-0.075);\n",
    "fig.supylabel(\"Difference in final arrival time\", x=-0.075);"
   ]
  },
  {
   "cell_type": "markdown",
   "metadata": {},
   "source": [
    "#### Look into parameter combinations where GP emulates data less well"
   ]
  },
  {
   "cell_type": "code",
   "execution_count": null,
   "metadata": {},
   "outputs": [],
   "source": [
    "par_index = 3\n",
    "n_train_ind = 2\n",
    "bus_ind_plot = 2\n",
    "plt.plot(two_bus_ids, twocon_predictions[2].mean[:,3], \"o\", label=\"Predictions using GP\")\n",
    "plt.plot(two_bus_ids, twocon_validation_actual[:,3], \"o\", label=\"Simulation\")\n",
    "plt.legend(loc=\"upper left\", bbox_to_anchor=(1.05, 1))\n",
    "plt.xlabel(\"Bus ID\")\n",
    "plt.ylabel(\"Time to reach final stop\")\n",
    "plt.show()\n",
    "print(\"Input points:\\t\", n_consimulations[n_train_ind])\n",
    "print(\"Input parameters: \")\n",
    "print(\"\\tTraffic speed:\\t\", twocon_validation_par[par_index, 0])\n",
    "print(\"\\tArrival rate:\\t\", twocon_validation_par[par_index, 1])"
   ]
  },
  {
   "cell_type": "code",
   "execution_count": null,
   "metadata": {},
   "outputs": [],
   "source": [
    "twocon_predictions[0].mean"
   ]
  },
  {
   "cell_type": "code",
   "execution_count": null,
   "metadata": {},
   "outputs": [],
   "source": [
    "# Set up plot at first time-step\n",
    "fig, ax = plt.subplots()\n",
    "bus_loc_plot, = ax.plot(twocon_validation_gps[par_index][0,:], range(len(twocon_validation_gps[par_index][0,:])), \"o\")\n",
    "plt.xlim((0, 40000))\n",
    "plt.xlabel(\"Distance / m\")\n",
    "plt.ylabel(\"Bus ID\")\n",
    "ax.set_title(\"Time = 0\")\n",
    "plt.show()"
   ]
  },
  {
   "cell_type": "code",
   "execution_count": null,
   "metadata": {},
   "outputs": [],
   "source": [
    "def drawframe(n, locations, points, axes):\n",
    "    axes.set_title(\"Time = {}\".format(n*10))\n",
    "    points.set_xdata(locations[n])\n",
    "    return points, axes"
   ]
  },
  {
   "cell_type": "code",
   "execution_count": null,
   "metadata": {},
   "outputs": [],
   "source": [
    "anim = matplotlib.animation.FuncAnimation(fig, drawframe, frames=len(gps), interval=50, fargs=(gps, bus_loc_plot, ax), blit=False)\n",
    "plt.show()"
   ]
  },
  {
   "cell_type": "code",
   "execution_count": null,
   "metadata": {},
   "outputs": [],
   "source": [
    "html = anim.to_html5_video()\n",
    "HTML(html)"
   ]
  },
  {
   "cell_type": "code",
   "execution_count": null,
   "metadata": {},
   "outputs": [],
   "source": [
    "# twocon_validation_actual[:,par_ind]\n",
    "len(twocon_predictions)\n",
    "\n",
    "# sim_out, gps = run_model_w_params(ArrivalRate=twocon_validation_par[par_index, 1]/60, TrafficSpeed=twocon_validation_par[par_index, 0], bus_ids_out=two_bus_ids, DEBUG=True)"
   ]
  },
  {
   "cell_type": "code",
   "execution_count": null,
   "metadata": {},
   "outputs": [],
   "source": [
    "fig, axes = plt.subplots(*twocon_predictions[0].mean.shape, sharex=True, sharey=True)\n",
    "\n",
    "diffs = np.zeros((len(n_consimulations), twocon_predictions[0].unc.shape[0], twocon_predictions[0].unc.shape[1]))\n",
    "for p_ind, preds in enumerate(twocon_predictions):\n",
    "    diffs[p_ind,:, :] = preds.unc\n",
    "    \n",
    "for bus_ind in range(twocon_predictions[0].unc.shape[0]):\n",
    "    for par_ind in range(twocon_predictions[0].unc.shape[1]):\n",
    "        axes[bus_ind, par_ind].scatter(n_consimulations, diffs[:, bus_ind, par_ind], marker=\"o\")\n",
    "        \n",
    "        if bus_ind == twocon_predictions[0].mean.shape[0] - 1:\n",
    "            axes[bus_ind, par_ind].set(xlabel=f\"TS={twocon_validation_par[par_ind,0]:.1f}\" + \"\\n\" + f\"AR={twocon_validation_par[par_ind,1]:.1f}\")\n",
    "    \n",
    "        if par_ind == 0:\n",
    "            axes[bus_ind, par_ind].set(ylabel=\"Bus \" + str(two_bus_ids[bus_ind]))\n",
    "\n",
    "        \n",
    "fig.supxlabel(\"Number of parameter pairs used to train GP\", y=-0.075);\n",
    "fig.supylabel(\"Uncertainty in arrival time\", x=-0.075);\n",
    "\n",
    "plt.ylim((0, 5000))"
   ]
  },
  {
   "cell_type": "markdown",
   "metadata": {},
   "source": [
    "- Visualise exact bus movements (GUI)\n",
    "- Check adding more training points to one-parameter versions\n",
    "- More plots of uncertainties associated with each GP\n",
    "- Pop scatter plots back into notebook\n",
    "- Are largest uncertinties associated with occasions where buses swap order?\n",
    "- Is there a param which decreases occurences of bus swapping?\n",
    "\n",
    "- Decision to make: have we got a sensible set of parameters to work with? Then move to stochastic model\n",
    "\n",
    "- **Links for Jon**"
   ]
  },
  {
   "cell_type": "code",
   "execution_count": null,
   "metadata": {},
   "outputs": [],
   "source": []
  },
  {
   "cell_type": "code",
   "execution_count": null,
   "metadata": {},
   "outputs": [],
   "source": []
  },
  {
   "cell_type": "code",
   "execution_count": null,
   "metadata": {},
   "outputs": [],
   "source": []
  },
  {
   "cell_type": "code",
   "execution_count": null,
   "metadata": {},
   "outputs": [],
   "source": [
    "%%capture\n",
    "end_times, gps = run_model_w_params()"
   ]
  },
  {
   "cell_type": "code",
   "execution_count": null,
   "metadata": {},
   "outputs": [],
   "source": [
    "gps[300]"
   ]
  },
  {
   "cell_type": "code",
   "execution_count": null,
   "metadata": {},
   "outputs": [],
   "source": [
    "# Set up plot at first time-step\n",
    "fig, ax = plt.subplots()\n",
    "bus_loc_plot, = ax.plot(gps[0], range(len(gps[0])), \"o\")\n",
    "plt.xlim((0, 40000))\n",
    "plt.xlabel(\"Distance / m\")\n",
    "plt.ylabel(\"Bus ID\")\n",
    "plt.show()"
   ]
  },
  {
   "cell_type": "code",
   "execution_count": null,
   "metadata": {},
   "outputs": [],
   "source": [
    "def drawframe(n, locations, points):\n",
    "    points.set_xdata(locations[n])\n",
    "    return points,"
   ]
  },
  {
   "cell_type": "code",
   "execution_count": null,
   "metadata": {},
   "outputs": [],
   "source": [
    "from matplotlib import animation\n",
    "anim = animation.FuncAnimation(fig, drawframe, frames=len(gps), interval=50, fargs=(gps, bus_loc_plot), blit=False)\n",
    "plt.show()"
   ]
  },
  {
   "cell_type": "code",
   "execution_count": null,
   "metadata": {},
   "outputs": [],
   "source": [
    "from IPython.display import HTML\n",
    "html = anim.to_html5_video()\n",
    "HTML(html)"
   ]
  },
  {
   "cell_type": "code",
   "execution_count": null,
   "metadata": {},
   "outputs": [],
   "source": []
  }
 ],
 "metadata": {
  "kernelspec": {
   "display_name": "Python 3 (ipykernel)",
   "language": "python",
   "name": "python3"
  },
  "language_info": {
   "codemirror_mode": {
    "name": "ipython",
    "version": 3
   },
   "file_extension": ".py",
   "mimetype": "text/x-python",
   "name": "python",
   "nbconvert_exporter": "python",
   "pygments_lexer": "ipython3",
   "version": "3.8.1"
  }
 },
 "nbformat": 4,
 "nbformat_minor": 4
}
