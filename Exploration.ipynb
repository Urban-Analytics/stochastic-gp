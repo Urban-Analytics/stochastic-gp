{
 "cells": [
  {
   "cell_type": "markdown",
   "metadata": {},
   "source": [
    "# Gaussian Process Emulation of the Deterministic BusSim Model\n",
    "\n",
    "In this notebook we will explore the deterministic `BusSim` model from the DUST project and attempt to emulate some of the model outputs using Gaussian Processes.\n",
    "\n",
    "The `BusSim` model code upon which this project is based is available on [GitHub](https://github.com/Urban-Analytics/dust/tree/main/Projects/ABM_DA/bussim), and the accompanying paper _Dealing with uncertainty in agent-based models for short-term predictions_, Kieu et al. (2019) is available on [arXiv](https://arxiv.org/abs/1908.08288).\n",
    "\n",
    "This `BusSim` model was selected for this exploratory study of GP emulation because of its structure and complexity level.\n",
    "\n",
    "## Aims\n",
    "\n",
    "- Explore how the outputs of `BusSim` model are influenced by selected parameters\n",
    "- Choose the outputs that we want to emulate using a GP\n",
    "- Emulate model outputs as one parameter is varied\n",
    "  - How well does the emulator perform? How do settings influence this?\n",
    "  - How does the uncertainty estimate of the GP link to the bus movements in the model?\n",
    "- Repeat the above investigation while varing two model parameters\n",
    "\n",
    "## Background material\n",
    "\n",
    "If new to Gaussian process emulation, the following resources may be useful.\n",
    "\n",
    "### Introductory material\n",
    "- [Gaussian process emulation](https://www.newton.ac.uk/seminar/20180111100011001/), Tony O'Hagan: Seminar from a workshop on uncertainty quantification\n",
    "- [Machine learning - Introduction to Gaussian Processes](https://www.youtube.com/watch?v=4vGiHC35j9s&list=PLE6Wd9FR--EdyJ5lbFl8UuGjecvVw66F6&index=12), Nando de Freitas: Two lectures out of a longer lecture series on machine learning\n",
    "\n",
    "### Further detail\n",
    "- [A visual exploration of Gaussian Processes](https://distill.pub/2019/visual-exploration-gaussian-processes/), Görtler, et al. (2019): Blog post with some particularly intuitive interactive diagrams; useful for getting a feel for different kernels\n",
    "- [Gaussian processes - From scratch](https://peterroelants.github.io/posts/gaussian-process-tutorial/), Peter Roelants: A three-part blog post on GPs, with extra detail on kernels in the later parts\n",
    "- [Tutorial from the Multi-Output Gaussian Process Emulator (MOGP) package](https://mogp-emulator.readthedocs.io/en/latest/intro/tutorial.html#tutorial): Hands-on example of the use of GP emulators\n",
    "\n",
    "### Books and papers\n",
    "- [Bayesian Analysis of Computer Code Outputs: A tutorial](http://www.tonyohagan.co.uk/academic/pdf/BACCO-tutorial.pdf), Tony O'Hagan: Covers similar material to the first video\n",
    "- [Introduction to Gaussian Processes](https://citeseerx.ist.psu.edu/viewdoc/download?doi=10.1.1.81.1927&rep=rep1&type=pdf), David MacKay: Much more mathematical detail than the blog posts linked above\n",
    "\n",
    "We'll start by introducing the agent-based model that we will use for most of our investigations into the application of GPs.\n",
    "The `BusSim` model simulates the movement of buses between regularly-spaced stops on a route.\n",
    "At each stop, the buses will wait until passengers have alighted or departed before continuing to the next stop."
   ]
  },
  {
   "cell_type": "code",
   "execution_count": null,
   "metadata": {},
   "outputs": [],
   "source": [
    "# Import the bus model, analysis/plotting libraries and GP library\n",
    "from BusSim_deterministic import run_model\n",
    "from IPython.display import HTML    # for animation\n",
    "import numpy as np\n",
    "import matplotlib\n",
    "import matplotlib.pyplot as plt\n",
    "from matplotlib import animation\n",
    "import mogp_emulator\n",
    "\n",
    "# Increase default figure size\n",
    "plt.rcParams[\"figure.figsize\"] = [12, 6]\n",
    "plt.rcParams[\"font.size\"] = 16"
   ]
  },
  {
   "cell_type": "markdown",
   "metadata": {
    "tags": []
   },
   "source": [
    "## Set up the model\n",
    "\n",
    "We'll run the model with a sensible set of default parameters, as used in previous studies of this model.\n",
    "\n",
    "The two parameters that we will vary in this notebook, and investigate in more detail, are **traffic speed** and **arrival rate**.\n",
    "\n",
    "**Traffic speed** sets the maximum movement speed of the buses as they travel between stops.\n",
    "\n",
    "**Arrival rate** is more complex.\n",
    "It sets the rate at which passengers arrive at each bus stop to wait for a bus.\n",
    "To begin with, we consider the simple case where every stop is assigned the same arrival rate.\n",
    "Later on, we vary the arrival rate so that it is a random value between a specified minimum and a variable maximum, which allows us to consider \"quiet\" or \"busy\" occasions.\n",
    "\n",
    "We will now set up out interface into the original `BusSim` code.\n",
    "\n",
    "The `run_model_w_params()` function has the following inputs:\n",
    "- Three inputs relate to out model parameters: `TrafficSpeed`, and either `ArrivalRate` or `maxDemand`\n",
    "- A list of bus IDs, `bus_ids_out` , which indicate the buses that we want to track the movements of\n",
    "- A random seed, which we can alter to select a different set of arrival rates for the bus stops\n",
    "- A flag to turn on some additional outputs which may be useful when debugging\n",
    "\n",
    "The function returns two outputs:\n",
    "- The time at which each of the buses listed in `bus_ids_out` reach their final destination\n",
    "- Time and location data for each of the buses listed in `bus_ids_out`"
   ]
  },
  {
   "cell_type": "code",
   "execution_count": null,
   "metadata": {},
   "outputs": [],
   "source": [
    "def run_model_w_params(ArrivalRate=None, TrafficSpeed=14, bus_ids_out=[0, 1, 2], seed=123, maxDemand=2, DEBUG=False):\n",
    "    # Hold most parameters constant, apart from the two (TrafficSpeed and ArrivalRate) that we will investigate in this notebook.\n",
    "    # Outputs are the times at which the buses of the provided IDs (bus_ids_out) reach their final destinations.\n",
    "        \n",
    "    if seed is not None:\n",
    "        np.random.seed(seed) # Make departure rates consistent across all simulations\n",
    "    \n",
    "    NumberOfStop = 20\n",
    "    minDemand = 0.5\n",
    "     \n",
    "    # Initialise the remaining model parameters\n",
    "    model_params = {\n",
    "        \"dt\": 10,\n",
    "        \"minDemand\": minDemand,        \n",
    "        \"NumberOfStop\": NumberOfStop,\n",
    "        \"LengthBetweenStop\": 2000,\n",
    "        \"EndTime\": 6000,\n",
    "        \"Headway\": 5 * 60,\n",
    "        \"BurnIn\": 1 * 60,\n",
    "        \"AlightTime\": 1,\n",
    "        \"BoardTime\": 3,\n",
    "        \"StoppingTime\": 3,\n",
    "        \"BusAcceleration\": 3\n",
    "    }\n",
    "    \n",
    "    if ArrivalRate is None:\n",
    "        ArrivalRate = np.random.uniform(minDemand / 60, maxDemand / 60, NumberOfStop) \n",
    "    else:\n",
    "        ArrivalRate = ArrivalRate * np.ones(NumberOfStop)\n",
    "                \n",
    "    DepartureRate = np.sort(np.random.uniform(0.05, 0.5, NumberOfStop)) # Sorted as more passengers get off near the end of the route\n",
    "\n",
    "    # Run the model with all plots turned off (some still produced as default; we turn them off with %%capture later)\n",
    "    model, model_params, ArrivalData, StateData, GroundTruth, GPSData = \\\n",
    "        run_model(model_params, TrafficSpeed, ArrivalRate, DepartureRate, False, False, False, True)\n",
    "        \n",
    "    bus_pos = np.array([bus.trajectory for bus in model.buses])    \n",
    "    time = np.arange(0, model.EndTime, model.dt)\n",
    "    total_distance = model_params[\"NumberOfStop\"] * model_params[\"LengthBetweenStop\"]\n",
    "\n",
    "    bus_t_end = [time[np.argmax(bp>=total_distance)] for bp in bus_pos]\n",
    "    bus_end_times = [bus_t_end[id] for id in bus_ids_out]\n",
    "    \n",
    "    if DEBUG:\n",
    "        print(bus_t_end)\n",
    "    \n",
    "    return bus_end_times, GPSData, ArrivalRate"
   ]
  },
  {
   "cell_type": "markdown",
   "metadata": {},
   "source": [
    "## Initial model investigation: vary one parameter\n",
    "\n",
    "We'll now take a look at our model outputs as we vary a single parameter at a time.\n",
    "\n",
    "### Traffic speed\n",
    "\n",
    "The first variable we will perform a parameter sweep over is the traffic speed.\n",
    "We'll capture a few variations on the same output: the time at which the buses listed in `ts_bus_ids` reaches their final destination.\n",
    "(Later on, we'll see if we can predict those times using a GP.)"
   ]
  },
  {
   "cell_type": "code",
   "execution_count": null,
   "metadata": {},
   "outputs": [],
   "source": [
    "%%capture\n",
    "# We use capture here to prevent plots included in the original BusSim code from being shown\n",
    "\n",
    "ts_bus_ids = range(9)\n",
    "\n",
    "traffic_speeds = np.arange(15, 50, 1.25)\n",
    "ts_bus_end_times = np.zeros((len(traffic_speeds), len(ts_bus_ids)))\n",
    "ts_bus_stop_arr_rates = np.zeros((len(traffic_speeds), 20))\n",
    "\n",
    "for ind, ts in enumerate(traffic_speeds):\n",
    "    ts_bus_end_times[ind,:], ts_gps_data, ts_bus_stop_arr_rates[ind,:] = run_model_w_params(TrafficSpeed=ts, bus_ids_out=ts_bus_ids)\n",
    "    # ts_gps_data is overwritten here, but we only want to collect the final set of bus positions so that's fine"
   ]
  },
  {
   "cell_type": "code",
   "execution_count": null,
   "metadata": {},
   "outputs": [],
   "source": [
    "# Generate plots of the time at which each bus reaches the end of its route\n",
    "plt.plot(traffic_speeds, ts_bus_end_times, marker=\"o\", linestyle=\"-\")\n",
    "plt.xlabel(\"Traffic speed\")\n",
    "plt.ylabel(\"Time at final destination\")\n",
    "plt.title(\"Effect of varying traffic speed\")\n",
    "plt.legend(labels=[\"bus \" + str(id) for id in ts_bus_ids], loc=\"center left\", bbox_to_anchor=(1.04, 0.5));"
   ]
  },
  {
   "cell_type": "code",
   "execution_count": null,
   "metadata": {},
   "outputs": [],
   "source": [
    "# And also have a look at the arrival rates, which determine how many people wait at each stop (these are consistent as traffic speed changes due to the constant random seed)\n",
    "print(\"Arrival rates at each bus stop:\")\n",
    "for ind, stop in enumerate(ts_bus_stop_arr_rates[0,:]):\n",
    "    print(f\"Bus stop {ind}:\\t{stop:.4f}\")"
   ]
  },
  {
   "cell_type": "markdown",
   "metadata": {},
   "source": [
    "Most of the buses in this investigation have a relatively consistent relationship between final arrival time and traffic speed: at low speeds, they take longer and as speed increases they reach their destination faster, up until a point where increasing the speed has very little further effect.\n",
    "\n",
    "The first buses to depart show more interesting variation with traffic speed, where at some (especially higher) traffic speeds the second bus overtakes the first after catching up with it at a stop.\n",
    "\n",
    "Let's take a look at that happening at the fastest traffic speed:"
   ]
  },
  {
   "cell_type": "code",
   "execution_count": null,
   "metadata": {},
   "outputs": [],
   "source": [
    "# Define a function to handle multiple frames of the plot for animation\n",
    "def drawframe(n, locations, points, axes):\n",
    "    axes.set_title(\"Time = {}\".format(n*10))\n",
    "    points.set_xdata(locations[n])\n",
    "    return points, axes"
   ]
  },
  {
   "cell_type": "code",
   "execution_count": null,
   "metadata": {},
   "outputs": [],
   "source": [
    "# Set up the plot at the first time-step\n",
    "fig, ax = plt.subplots()\n",
    "ts_bus_gps, = ax.plot(ts_gps_data[0,:], range(len(ts_gps_data[0,:])), \"o\")\n",
    "plt.xlim((0, 40000))\n",
    "plt.xlabel(\"Distance / m\")\n",
    "plt.ylabel(\"Bus ID\")\n",
    "ax.set_title(\"Traffic speed {}\\nTime = 0\".format(traffic_speeds[-1]))\n",
    "\n",
    "# Add the animation data via fargs: gps traces, bus IDs and the axis\n",
    "anim = animation.FuncAnimation(fig, drawframe, frames=ts_gps_data.shape[0], interval=50, fargs=(ts_gps_data, ts_bus_gps, ax), blit=False)\n",
    "plt.close()  # Close this figure for now as we'll look at the animated version in the next cell"
   ]
  },
  {
   "cell_type": "code",
   "execution_count": null,
   "metadata": {},
   "outputs": [],
   "source": [
    "# Prepare the video for playing (note that you'll need to have ffmpeg installed for this to work; see the accompanying README.md file if not)\n",
    "html = anim.to_html5_video()\n",
    "HTML(html)"
   ]
  },
  {
   "cell_type": "markdown",
   "metadata": {},
   "source": [
    "The traffic speed parameter gives us something nice to explore with Gaussian Processes.\n",
    "For our first attempt at emulating an agent-based model, we want to obtain a handful of individual values from the emulator where the distribution of those values isn't too challenging/discontinuous.\n",
    "\n",
    "The time at which each bus arrives at the final destination sets us up for an interesting emulation task - can we use the emulator to derive those values, when when it is more challenging to predict as some of the buses overtake each other at higher traffic speeds?\n",
    "\n",
    "We'll return to the emulation task after exploring our other parameters."
   ]
  },
  {
   "cell_type": "markdown",
   "metadata": {},
   "source": [
    "### Arrival rates\n",
    "\n",
    "We'll now try a more complex case - we'll vary how busy the bus service is by altering the maximum demand, which sets the arrival rate at each bus stop.\n",
    "\n",
    "Demand at the individual stops was kept constant as the traffic speed varied in previous example, although it did differ between individual stops.\n",
    "\n",
    "We will now look at two cases:\n",
    "- Same demand at all stops\n",
    "- Randomised demand levels (as before) but with a varying upper limit (to give quiet and busy routes)"
   ]
  },
  {
   "cell_type": "code",
   "execution_count": null,
   "metadata": {},
   "outputs": [],
   "source": [
    "%%capture\n",
    "# Again, use capture to prevent plots that we don't need from showing\n",
    "\n",
    "md_bus_ids = range(9)\n",
    "\n",
    "max_demand = np.arange(0.25, 5.0, 0.25)\n",
    "\n",
    "# First, hold arrival rate constant at all stops, based on max demand\n",
    "mdc_bus_end_times = np.zeros((len(max_demand), len(md_bus_ids)))\n",
    "mdc_bus_stop_arr_rates = np.zeros((len(max_demand), 20))\n",
    "\n",
    "# Then simulate a second set of cases where arrival rate is derived from the maximum demand\n",
    "mdv_bus_end_times = np.zeros((len(max_demand), len(md_bus_ids)))\n",
    "mdv_bus_stop_arr_rates = np.zeros((len(max_demand), 20))\n",
    "\n",
    "for ind, max_dem in enumerate(max_demand): \n",
    "    mdc_bus_end_times[ind,:], _, mdc_bus_stop_arr_rates[ind,:] = run_model_w_params(ArrivalRate=max_dem/60, bus_ids_out=md_bus_ids)  # constant arrival rate at all stops\n",
    "    mdv_bus_end_times[ind,:], _, mdv_bus_stop_arr_rates[ind,:] = run_model_w_params(bus_ids_out=md_bus_ids, maxDemand=max_dem)       # variable arrival rate, with set upper limit"
   ]
  },
  {
   "cell_type": "code",
   "execution_count": null,
   "metadata": {},
   "outputs": [],
   "source": [
    "plt.plot(max_demand, mdc_bus_end_times, marker=\"o\", linestyle=\"-\")\n",
    "plt.xlabel(\"Maximum demand\")\n",
    "plt.ylabel(\"Time at final destination\")\n",
    "plt.title(\"Influence of arrival rate (constant at all stops)\")\n",
    "plt.legend(labels=[\"bus \" + str(id) for id in md_bus_ids], loc=\"center left\", bbox_to_anchor=(1.04, 0.5))\n",
    "plt.ylim(bottom=0);"
   ]
  },
  {
   "cell_type": "code",
   "execution_count": null,
   "metadata": {},
   "outputs": [],
   "source": [
    "plt.plot(max_demand, mdv_bus_end_times, marker=\"o\", linestyle=\"-\")\n",
    "plt.xlabel(\"Maximum demand\")\n",
    "plt.ylabel(\"Time at final destination\")\n",
    "plt.title(\"Influence of arrival rate (variable between stops)\")\n",
    "plt.legend(labels=[\"bus \" + str(id) for id in md_bus_ids], loc=\"center left\", bbox_to_anchor=(1.04, 0.5))\n",
    "plt.ylim(bottom=0);"
   ]
  },
  {
   "cell_type": "code",
   "execution_count": null,
   "metadata": {},
   "outputs": [],
   "source": [
    "print(\"Arrival rates at each bus stop:\")\n",
    "print(\"\\t\\tConstant demand\\t\\tVariable demand\")\n",
    "print(\"\\t\\tLowest\\tHighest\\t\\tLowest\\tHighest\")\n",
    "for ind, (cstop_low, cstop_high, vstop_low, vstop_high) in enumerate(zip(mdc_bus_stop_arr_rates[0,:], mdc_bus_stop_arr_rates[-1,:], mdv_bus_stop_arr_rates[0,:], mdv_bus_stop_arr_rates[-1,:])):\n",
    "    print(f\"Bus stop {ind}:\\t{cstop_low:.4f}\\t{cstop_high:.4f}\\t\\t{vstop_low:.4f}\\t{vstop_high:.4f}\")"
   ]
  },
  {
   "cell_type": "markdown",
   "metadata": {},
   "source": [
    "Again, we can see that there is generally a smooth trend of increasing time to final destination as demand is increased.\n",
    "\n",
    "This time, the parameter values has more of an influence on whether buses bunch together and swap position, with this generally happening at higher levels of demand.\n",
    "\n",
    "It is worth noting that one bus does not make it to the end of its route in the constant demand simulation; this is something to take care around later as the discontinuity may prove more challenging for the emulator."
   ]
  },
  {
   "cell_type": "markdown",
   "metadata": {},
   "source": [
    "## Introducing Gaussian process emulation\n",
    "\n",
    "First of all, a quick introduction to GPs - how will they help us in this project?\n",
    "\n",
    "Simulations, particularly agent-based models, often give highly detailed output yet can take a long time to run, especially in more complex models with large amounts of interaction between agents.\n",
    "It is often necessary to run these models many times for studies such as parameter estimation, yet often the full output of the simulation is not required.\n",
    "\n",
    "Emulation is highly useful in these cases: once fit, the trained model can be used for prediction of its outputs over and over again - far more quickly than the original model in many cases.\n",
    "\n",
    "Useful resources for getting started include:\n",
    "- **\\<Fill in from notebook list later\\>**\n",
    "\n",
    "\n",
    "### Emulating bus arrival time with variable traffic speed\n",
    "\n",
    "We'll try to emulate relatively simple outputs at first, sticking to only a few for each of our investigations.\n",
    "In the first attempt at using the emulator, we'll attempt to emulate the time that buses 0, 4 and 9 (or the buses listed in `ts_busids`, if altered) arrive at their final destination for different values of traffic speed.\n",
    "\n",
    "We'll provide fewer input points than we used in the investigations above, and see how the emulator performs.\n",
    "\n",
    "We set up a Latin hypercube sampler over the selected traffic speed parameter space.\n",
    "This will give us irregular yet generally evenly spread samples across the parameter space."
   ]
  },
  {
   "cell_type": "code",
   "execution_count": null,
   "metadata": {},
   "outputs": [],
   "source": [
    "ts_busids = [0, 4, 9]  # select which buses we want to emulate\n",
    "\n",
    "ts_lhd = mogp_emulator.LatinHypercubeDesign([(15.0, 50.0)])  # want to select values from traffic speed parameter space (between 15 and 50) with Latin hypercube sampling\n",
    "ts_nsims = 15\n",
    "np.random.seed(0)  # for reproducibility (change to np.random.seed() for different values each time)\n",
    "ts_lhd_sample = ts_lhd.sample(ts_nsims)"
   ]
  },
  {
   "cell_type": "code",
   "execution_count": null,
   "metadata": {},
   "outputs": [],
   "source": [
    "plt.figure(figsize=[12, 2])\n",
    "plt.eventplot(ts_lhd_sample[:,0], lineoffsets=1)\n",
    "plt.ylim((0.4,1.6))\n",
    "plt.yticks([])\n",
    "plt.xlabel(\"traffic speed\")\n",
    "plt.title(\"Sampled values of traffic speed used to fit GP\");"
   ]
  },
  {
   "cell_type": "code",
   "execution_count": null,
   "metadata": {},
   "outputs": [],
   "source": [
    "%%capture\n",
    "# Again, we'll capture the unneeded plots as we perform the simulations\n",
    "\n",
    "ts_simulation_output = np.zeros((len(ts_busids), ts_nsims))\n",
    "\n",
    "for ind, ts in enumerate(ts_lhd_sample):\n",
    "    ts_simulation_output[:,ind], _, _ = run_model_w_params(TrafficSpeed=ts[0], bus_ids_out=ts_busids)"
   ]
  },
  {
   "cell_type": "markdown",
   "metadata": {},
   "source": [
    "#### Fit the GP\n",
    "\n",
    "As we want to emulate several outputs, we use the `MultiOutputGP` of the `mogp_emulator` package.\n",
    "\n",
    "This class fits a separate emulator for each output.\n",
    "The fitting function, `fit_GP_MAP` (Maximum A Posteriori), uses maximum likelihood estimation when no further priors are specified, as here."
   ]
  },
  {
   "cell_type": "code",
   "execution_count": null,
   "metadata": {},
   "outputs": [],
   "source": [
    "ts_gp = mogp_emulator.MultiOutputGP(ts_lhd_sample, ts_simulation_output)\n",
    "ts_gp = mogp_emulator.fit_GP_MAP(ts_gp)"
   ]
  },
  {
   "cell_type": "markdown",
   "metadata": {},
   "source": [
    "Before examining the GP emulator's performance, let's take a look at its hyperparameters:"
   ]
  },
  {
   "cell_type": "code",
   "execution_count": null,
   "metadata": {},
   "outputs": [],
   "source": [
    "for ind, em in enumerate(ts_gp.emulators):\n",
    "    print(\"Hyperparameters of the GP for bus {}:\".format(ts_busids[ind]))\n",
    "    print(\"Correlation length = {:.5}\".format(np.sqrt(np.exp(-em.theta[0]))))\n",
    "    print(\"Sigma = {:.5}\".format(np.sqrt(np.exp(em.theta[1]))))\n",
    "    print(\"Nugget = {:.5}\\n\".format(em.nugget))"
   ]
  },
  {
   "cell_type": "markdown",
   "metadata": {},
   "source": [
    "The **correlation length** gives an indication of how much of a change in traffic speed is needed to introduce a significant change in the bus' arrival time at its final destination.\n",
    "Comparing against the plot of arrival time against traffic speed earlier in this notebook indicates that these values are reasonable - we can see appreciable changes in arrival time for changes of 2-20 in traffic speed.\n",
    "If we alter the number of simulations used as input, we can see that the quality of the fit will be affected.\n",
    "For instance, try setting `ts_nsims=5`, and note the dramatic increase in the correlation length.\n",
    "\n",
    "**Sigma** captures the overall variation in the arrival time.\n",
    "\n",
    "The **nugget** term is a small addition to the diagonal of the covariance matrix, which aids with numerical stability.\n",
    "We have used the default, \"adaptive\" option to set its value, where its small value is increased until it is possible to solve the system.\n",
    "Its value can alternatively be optimised using the \"fit\" option, which we will investigate in the next notebook.\n",
    "\n",
    "Notes on deriving these parameters from the $\\theta$ vector are available in the [documentation](https://mogp-emulator.readthedocs.io/en/latest/intro/methoddetails.html?highlight=theta#hyperparameters) of the MOGP Emulator package.\n",
    "\n",
    "#### Test out the GP\n",
    "\n",
    "To test out how well the GP has performed, we compare a selection of emulated results against comparable simulated ones.\n",
    "\n",
    "We will draw a set of traffic speed values from the same Latin hypercube sampler as before, and plot the simulated and emulated values at which the buses reach their final destination."
   ]
  },
  {
   "cell_type": "code",
   "execution_count": null,
   "metadata": {},
   "outputs": [],
   "source": [
    "%%capture\n",
    "\n",
    "# Select traffic speed values for validation\n",
    "ts_validation_nsims = 50\n",
    "np.random.seed(1)\n",
    "ts_lhd_sample_validation = ts_lhd.sample(ts_validation_nsims)\n",
    "\n",
    "# Predict outputs using the previously fitted GP emulator\n",
    "ts_predicted = ts_gp.predict(ts_lhd_sample_validation, include_nugget=False)\n",
    "\n",
    "# Also use the simulator to compute the exact results\n",
    "ts_simulated = np.zeros((len(ts_busids), ts_validation_nsims))\n",
    "for ind, ts in enumerate(ts_lhd_sample_validation):\n",
    "    sim_out, _, _ = run_model_w_params(TrafficSpeed=ts[0], bus_ids_out=ts_busids)\n",
    "    ts_simulated[:,ind] = np.array(sim_out)"
   ]
  },
  {
   "cell_type": "code",
   "execution_count": null,
   "metadata": {},
   "outputs": [],
   "source": [
    "# Some preparation for the plot:\n",
    "\n",
    "# Set marker styles\n",
    "plt_mk = { \"train\": \"o\",      # Used to train the GP\n",
    "           \"pred\": \"+\",       # Predicted by the GP\n",
    "           \"sim\": \"x\" }       # Same TS as \"pred\", full simulation\n",
    "\n",
    "# Create legend labels\n",
    "plt_mk_legend = [matplotlib.lines.Line2D([0], [0], marker=plt_mk[\"train\"], color=\"w\", label=\"Training\",\n",
    "                 markerfacecolor=\"k\", markeredgecolor=\"k\"), \n",
    "                 matplotlib.lines.Line2D([0], [0], marker=plt_mk[\"pred\"], color=\"w\", label=\"Predicted (GP)\",\n",
    "                 markerfacecolor=\"k\", markeredgecolor=\"k\"), \n",
    "                 matplotlib.lines.Line2D([0], [0], marker=plt_mk[\"sim\"], color=\"w\", label=\"Simulated\",\n",
    "                 markerfacecolor=\"k\", markeredgecolor=\"k\")]"
   ]
  },
  {
   "cell_type": "code",
   "execution_count": null,
   "metadata": {},
   "outputs": [],
   "source": [
    "legend_entries = []\n",
    "\n",
    "for ind, (a, p, u) in enumerate(zip(ts_simulated, ts_predicted.mean, ts_predicted.unc)):\n",
    "    plt.plot(ts_lhd_sample_validation, a, marker=plt_mk[\"sim\"], linestyle=\"\", color=plt.cm.Set1(ind))\n",
    "    plt.plot(ts_lhd_sample_validation, p, marker=plt_mk[\"pred\"], linestyle=\"\", color=plt.cm.Set1(ind))\n",
    "    plt.plot(ts_lhd_sample, ts_simulation_output[ind,], marker=plt_mk[\"train\"], linestyle=\"\", color=plt.cm.Set1(ind))\n",
    "    \n",
    "    legend_entries.append(matplotlib.patches.Patch(facecolor=plt.cm.Set1(ind), edgecolor=None, label=\"Bus {}\".format(ts_bus_ids[ind])))\n",
    "    \n",
    "    o = np.argsort(ts_lhd_sample_validation, axis=None)\n",
    "    plt.fill_between(ts_lhd_sample_validation.flatten()[o], p[o]-u[o], p[o]+u[o],\n",
    "                     color=plt.cm.Set1(ind), alpha=0.2, linewidth=0)\n",
    "            \n",
    "plt.xlabel(\"Traffic speed\")\n",
    "plt.ylabel(\"Time at final destination\")\n",
    "plt.legend(handles=legend_entries+plt_mk_legend, loc=\"upper left\", bbox_to_anchor=(1.05, 1))\n",
    "plt.ylim(0, 7500)  # Comment this line out to see limits of uncertainty for bus 0\n",
    "plt.show()"
   ]
  },
  {
   "cell_type": "markdown",
   "metadata": {},
   "source": [
    "Generally, the GP is doing a good job of simulating the final arrival time of each bus.\n",
    "\n",
    "The uncertainty in the prediction of the arrival time of the first bus is particularly interesting, as the bounds are much wider than those of the other buses.\n",
    "There were several occasions in when bus 0 was overtaken by buses 1 and 2 in our set of simulations earlier in this notebook, particularly around speeds of 40-45.\n",
    "With that in mind, this increase in uncertainty does make sense.\n",
    "\n",
    "In addition, some of the traffic speeds for which results were emulated can be larger/smaller than those in the dataset used to train the emulator.\n",
    "High uncertainty bounds at the limits of traffic speed are often seen, even when larger numbers of simulations are used for training.\n",
    "\n",
    "### Emulating bus arrival time with variable maximum demand\n",
    "\n",
    "We will now repeat a similar analysis, but while changing the arrival rate.\n",
    "Within each simulation, we will keep the arrival rate constant over all bus stops."
   ]
  },
  {
   "cell_type": "code",
   "execution_count": null,
   "metadata": {},
   "outputs": [],
   "source": [
    "%%capture\n",
    "\n",
    "# Select values for maximum demand (plotted below) and run simulations\n",
    "\n",
    "md_busids = [0, 1, 2, 6]\n",
    "\n",
    "md_nsims = 15\n",
    "md_lhd = mogp_emulator.LatinHypercubeDesign([(0.25, 5.0)])\n",
    "np.random.seed(2)\n",
    "md_lhd_sample = md_lhd.sample(md_nsims)\n",
    "\n",
    "md_simulation_output = np.zeros((len(md_busids), md_nsims))\n",
    "\n",
    "for ind, max_dem in enumerate(md_lhd_sample):\n",
    "    ArrivalRate = max_dem[0]/60\n",
    "    sim_out, _, _ = run_model_w_params(ArrivalRate=ArrivalRate, bus_ids_out=md_busids)\n",
    "    md_simulation_output[:,ind] = np.array(sim_out)"
   ]
  },
  {
   "cell_type": "code",
   "execution_count": null,
   "metadata": {},
   "outputs": [],
   "source": [
    "plt.figure(figsize=[12, 2])\n",
    "plt.eventplot(md_lhd_sample[:,0], lineoffsets=1)\n",
    "plt.ylim((0.4,1.6))\n",
    "plt.yticks([])\n",
    "plt.xlabel(\"max demand\")\n",
    "plt.title(\"Sampled values of maximum demand used to fit GP\");"
   ]
  },
  {
   "cell_type": "code",
   "execution_count": null,
   "metadata": {},
   "outputs": [],
   "source": [
    "# Fit the Gaussian process emulator\n",
    "md_gp = mogp_emulator.MultiOutputGP(md_lhd_sample, md_simulation_output)\n",
    "md_gp = mogp_emulator.fit_GP_MAP(md_gp)\n",
    "\n",
    "for ind, em in enumerate(md_gp.emulators):\n",
    "    print(\"Hyperparameters of the GP for bus {}:\".format(md_busids[ind]))\n",
    "    print(\"Correlation length = {:.5}\".format(np.sqrt(np.exp(-em.theta[0]))))\n",
    "    print(\"Sigma = {:.5}\".format(np.sqrt(np.exp(em.theta[1]))))\n",
    "    print(\"Nugget = {:.5}\\n\".format(em.nugget))"
   ]
  },
  {
   "cell_type": "code",
   "execution_count": null,
   "metadata": {},
   "outputs": [],
   "source": [
    "%%capture\n",
    "\n",
    "# For validation, select a further set of max demand values, sample from GP emulator and run simulations\n",
    "\n",
    "md_nsims_validation = 50\n",
    "np.random.seed(3)\n",
    "md_lhd_sample_validation = md_lhd.sample(md_nsims_validation)\n",
    "\n",
    "md_predicted = md_gp.predict(md_lhd_sample_validation)\n",
    "\n",
    "md_simulated = np.zeros((len(md_busids), md_nsims_validation))\n",
    "for ind, max_dem in enumerate(md_lhd_sample_validation):\n",
    "    ArrivalRate = max_dem[0]/60\n",
    "    sim_out, _, _ = run_model_w_params(ArrivalRate=ArrivalRate, bus_ids_out=md_busids)\n",
    "    md_simulated[:,ind] = np.array(sim_out)"
   ]
  },
  {
   "cell_type": "code",
   "execution_count": null,
   "metadata": {},
   "outputs": [],
   "source": [
    "legend_entries = []\n",
    "\n",
    "for ind, (a, p, u) in enumerate(zip(md_simulated, md_predicted.mean, md_predicted.unc)):\n",
    "    plt.plot(md_lhd_sample_validation, a, marker=plt_mk[\"sim\"], linestyle=\"\", color=plt.cm.Set1(ind))\n",
    "    plt.plot(md_lhd_sample_validation, p, marker=plt_mk[\"pred\"], linestyle=\"\", color=plt.cm.Set1(ind))\n",
    "    plt.plot(md_lhd_sample, md_simulation_output[ind,], marker=plt_mk[\"train\"], linestyle=\"\", color=plt.cm.Set1(ind))\n",
    "    \n",
    "    legend_entries.append(matplotlib.patches.Patch(facecolor=plt.cm.Set1(ind), edgecolor=None, label=\"Bus {}\".format(md_busids[ind])))\n",
    "   \n",
    "    o = np.argsort(md_lhd_sample_validation, axis=None)\n",
    "    plt.fill_between(md_lhd_sample_validation.flatten()[o], p[o]-u[o], p[o]+u[o],\n",
    "                     color=plt.cm.Set1(ind), alpha=0.2, linewidth=0)\n",
    "        \n",
    "plt.xlabel(\"Max demand\")\n",
    "plt.ylabel(\"Time at final destination\")\n",
    "plt.legend(handles=legend_entries+plt_mk_legend, loc=\"upper left\", bbox_to_anchor=(1.05, 1))\n",
    "plt.ylim((0, 10000))\n",
    "plt.show()"
   ]
  },
  {
   "cell_type": "markdown",
   "metadata": {},
   "source": [
    "Again, the GP emulator generally gives results that are very close to the simulated values, although this time with more regions of higher uncertainty.\n",
    "\n",
    "Changing the number of points used to train the GP results in a poorer fit.\n",
    "For example, trying with only five input points yields more noticeable differences in the mean output of the GP and the simulated output."
   ]
  },
  {
   "cell_type": "markdown",
   "metadata": {},
   "source": [
    "## Further model investigation: vary two parameters\n",
    "\n",
    "Essentially we'll try the same procedure as before, but this time with two variable parameters.\n",
    "We're looking out for how difficult it is for the GP to still provide a good estimate given that coverage of the parameter space is now going to be far harder.\n",
    "\n",
    "As before, we run a set of simulations to train our GP on.\n",
    "We'll take 12 samples from a Latin hypercube to pull out samples which cover the parameter space of traffic speeds of 15-50 and maximum demand at each bus stop of 0.25-5.\n",
    "We then fit the GP and test its performance via comparison of a further set of simulations against corresponding samples from the GP."
   ]
  },
  {
   "cell_type": "code",
   "execution_count": null,
   "metadata": {},
   "outputs": [],
   "source": [
    "%%capture\n",
    "\n",
    "two_busids = [0, 1, 2, 6]\n",
    "\n",
    "two_nsims = 30\n",
    "two_lhd = mogp_emulator.LatinHypercubeDesign([(15.0, 50.0), (0.25, 5.0)])\n",
    "np.random.seed(4)\n",
    "two_lhd_sample = two_lhd.sample(two_nsims)\n",
    "\n",
    "two_simulation_output = np.zeros((len(two_busids), two_nsims))\n",
    "\n",
    "for ind, par in enumerate(two_lhd_sample):\n",
    "    sim_out, _, _ = run_model_w_params(ArrivalRate=par[1]/60, TrafficSpeed=par[0], bus_ids_out=two_busids)\n",
    "    two_simulation_output[:,ind] = np.array(sim_out)"
   ]
  },
  {
   "cell_type": "code",
   "execution_count": null,
   "metadata": {},
   "outputs": [],
   "source": [
    "two_gp = mogp_emulator.MultiOutputGP(two_lhd_sample, two_simulation_output)\n",
    "two_gp = mogp_emulator.fit_GP_MAP(two_gp)"
   ]
  },
  {
   "cell_type": "markdown",
   "metadata": {},
   "source": [
    "We now have two values for each of the hyperparameters: the first for the traffic speed, and the second for the maximum demand.\n",
    "Should the number of simulations used to train the GP be much lower than ~20, the correlation lengths in particular become much higher that what you would expect from our studies of the model above, and the emulation is less successful."
   ]
  },
  {
   "cell_type": "code",
   "execution_count": null,
   "metadata": {},
   "outputs": [],
   "source": [
    "for ind, em in enumerate(two_gp.emulators):\n",
    "    print(\"Hyperparameters of the GP for bus {}:\".format(md_busids[ind]))\n",
    "    print(\"Correlation lengths = {:.5}, {:.5}\".format(np.sqrt(np.exp(-em.theta[0])), np.sqrt(np.exp(-em.theta[1]))))\n",
    "    print(\"Sigmas = {:.5}, {:.5}\".format(np.sqrt(np.exp(em.theta[2])), np.sqrt(np.exp(em.theta[3]))))\n",
    "    print(\"Nugget = {:.5}\\n\".format(em.nugget))"
   ]
  },
  {
   "cell_type": "markdown",
   "metadata": {},
   "source": [
    "#### Validation: direct comparison\n",
    "\n",
    "As previously, we will varry out a further set of simulations and compare their outputs against those from the GP emulator."
   ]
  },
  {
   "cell_type": "code",
   "execution_count": null,
   "metadata": {},
   "outputs": [],
   "source": [
    "%%capture\n",
    "\n",
    "two_nsims_validation = 30\n",
    "np.random.seed(5)\n",
    "two_lhd_sample_validation = two_lhd.sample(two_nsims_validation)\n",
    "\n",
    "two_predicted = two_gp.predict(two_lhd_sample_validation)\n",
    "\n",
    "two_simulated = np.zeros((len(two_busids), two_nsims_validation))\n",
    "for ind, par in enumerate(two_lhd_sample_validation):\n",
    "    sim_out, _, _ = run_model_w_params(ArrivalRate=par[1]/60, TrafficSpeed=par[0], bus_ids_out=two_busids)\n",
    "    two_simulated[:,ind] = np.array(sim_out)"
   ]
  },
  {
   "cell_type": "markdown",
   "metadata": {},
   "source": [
    "Visualising how well the GP performs is trickier now that we are in two dimensions.\n",
    "First, we'll print out the predicted and simulated final arrival times for one of the buses for a quick manual comparison."
   ]
  },
  {
   "cell_type": "code",
   "execution_count": null,
   "metadata": {},
   "outputs": [],
   "source": [
    "bus_index = 1\n",
    "print(\"Bus %i\\n-----\" % two_busids[bus_index])\n",
    "\n",
    "print(\"traffic speed\\tmax demand\\tprediction\\t\\tsimulation\\tdifference\")\n",
    "for par, mean, unc, sim in zip(two_lhd_sample_validation, two_predicted.mean.T, two_predicted.unc.T, two_simulated.T):\n",
    "    print(\"%.2f\\t\\t%.2f\\t\\t%.2f +/- %.2f\\t%.2f\\t\\t% .2f\" % (par[0], par[1], mean[bus_index], unc[bus_index], sim[bus_index], mean[bus_index]-sim[bus_index]))"
   ]
  },
  {
   "cell_type": "markdown",
   "metadata": {},
   "source": [
    "And we will also plot the same values on a 2D scatterplot.\n",
    "The positions of the points show the location of the points in the traffic speed / maximum demand parameter space.\n",
    "Note how the Latin hypercube design generally spaces them out well through the space, but there are still regions near the edges that are less well covered."
   ]
  },
  {
   "cell_type": "code",
   "execution_count": null,
   "metadata": {},
   "outputs": [],
   "source": [
    "bus_index = 1\n",
    "\n",
    "fig_train = plt.figure()\n",
    "plt.scatter(two_lhd_sample[:,1], two_lhd_sample[:,0], c=two_simulation_output[bus_index,:], marker=\"o\")\n",
    "\n",
    "plt.xlabel(\"Max demand\")\n",
    "plt.ylabel(\"Traffic speed\")\n",
    "plt.title(\"Simulated arrival times used to train the GP emulator\")\n",
    "plt.colorbar(label=\"Arrival time (Bus {})\".format(two_busids[bus_index]))\n",
    "xlims = (0, 5)\n",
    "plt.xlim(xlims)\n",
    "plt.show()"
   ]
  },
  {
   "cell_type": "markdown",
   "metadata": {},
   "source": [
    "#### Validation: constant traffic speed\n",
    "\n",
    "To make visualisation easier, we will use a constant value of traffic speed for some further validation. "
   ]
  },
  {
   "cell_type": "code",
   "execution_count": null,
   "metadata": {},
   "outputs": [],
   "source": [
    "%%capture\n",
    "fixed_ts = 40\n",
    "two_fix_lhd_sample_validation = two_lhd_sample_validation.copy()\n",
    "two_fix_lhd_sample_validation[:,0] = fixed_ts\n",
    "\n",
    "two_fix_predicted = two_gp.predict(two_fix_lhd_sample_validation)\n",
    "\n",
    "two_fix_simulated = np.zeros((len(two_busids), two_nsims_validation))\n",
    "for ind, par in enumerate(two_fix_lhd_sample_validation):\n",
    "    sim_out, _, _ = run_model_w_params(ArrivalRate=par[1]/60, TrafficSpeed=fixed_ts, bus_ids_out=two_busids)\n",
    "    two_fix_simulated[:,ind] = np.array(sim_out)"
   ]
  },
  {
   "cell_type": "code",
   "execution_count": null,
   "metadata": {},
   "outputs": [],
   "source": [
    "legend_entries = []\n",
    "\n",
    "for ind, (a, p, u) in enumerate(zip(two_fix_simulated, two_fix_predicted.mean, two_fix_predicted.unc)):\n",
    "    plt.plot(two_fix_lhd_sample_validation[:,1], a, marker=plt_mk[\"sim\"], linestyle=\"\", color=plt.cm.Set1(ind))\n",
    "    plt.plot(two_fix_lhd_sample_validation[:,1], p, marker=plt_mk[\"pred\"], linestyle=\"\", color=plt.cm.Set1(ind))\n",
    "    # Note that training data hasn't been included here as it was obtained at different values of traffic speed    \n",
    "    \n",
    "    legend_entries.append(matplotlib.patches.Patch(facecolor=plt.cm.Set1(ind), edgecolor=None, label=\"Bus {}\".format(two_busids[ind])))\n",
    "        \n",
    "    o = np.argsort(two_fix_lhd_sample_validation[:,1], axis=None)\n",
    "    plt.fill_between(two_fix_lhd_sample_validation[o,1], p[o]-u[o], p[o]+u[o],\n",
    "                     color=plt.cm.Set1(ind), alpha=0.2, linewidth=0)\n",
    "        \n",
    "plt.xlabel(\"Max demand\")\n",
    "plt.ylabel(\"Time at final destination\")\n",
    "plt.title(\"Fixed traffic speed of {}\".format(fixed_ts))\n",
    "plt.legend(handles=legend_entries+plt_mk_legend[1:], loc=\"upper left\", bbox_to_anchor=(1.05, 1))\n",
    "plt.ylim((0, 7000))\n",
    "plt.show()"
   ]
  },
  {
   "cell_type": "markdown",
   "metadata": {},
   "source": [
    "Note that the parameter combinations used to fit the GP may not have had traffic speed set to the fixed value above.\n",
    "\n",
    "For instance, the traffic speed used in the plot above is near the following points used to train the GP:"
   ]
  },
  {
   "cell_type": "code",
   "execution_count": null,
   "metadata": {},
   "outputs": [],
   "source": [
    "fig_train.gca().plot(xlims, [fixed_ts, fixed_ts], color=\"k\", linestyle=\"--\")\n",
    "fig_train"
   ]
  },
  {
   "cell_type": "markdown",
   "metadata": {},
   "source": [
    "### Testing the impact of additional points to train the GP\n",
    "\n",
    "It is clear from the plots above that regions of parameter space without adequate coverage when fitting the GP result in high uncertainties when making predictions using the GP.\n",
    "Interestingly, the mean predictions from the GP are very close to the outputs of the corresponding simulations despite this issue.\n",
    "\n",
    "We will now generate several GP emulators, trained on increasing numbers of input points."
   ]
  },
  {
   "cell_type": "code",
   "execution_count": null,
   "metadata": {},
   "outputs": [],
   "source": [
    "%%capture\n",
    "n_consimulations = [8, 16, 32, 64]\n",
    "\n",
    "twocon_gps = []\n",
    "np.random.seed(6)\n",
    "\n",
    "# Fit a GP with each number of input simulations\n",
    "for n in n_consimulations:\n",
    "    twocon_lhd_sample = two_lhd.sample(n)    # Use the LHD from earlier, with limits of 15-50 for traffic speed and 0.25-5 for arrival rate\n",
    "    twocon_simulation_output = np.zeros((len(two_busids), n))\n",
    "\n",
    "    for ind, par in enumerate(twocon_lhd_sample):\n",
    "        sim_out, _, _ = run_model_w_params(ArrivalRate=par[1]/60, TrafficSpeed=par[0], bus_ids_out=two_busids)\n",
    "        twocon_simulation_output[:,ind] = np.array(sim_out)\n",
    "        \n",
    "    twocon_gp = mogp_emulator.MultiOutputGP(twocon_lhd_sample, twocon_simulation_output)\n",
    "    twocon_gp = mogp_emulator.fit_GP_MAP(twocon_gp)\n",
    "    twocon_gps.append(twocon_gp)"
   ]
  },
  {
   "cell_type": "code",
   "execution_count": null,
   "metadata": {},
   "outputs": [],
   "source": [
    "# Generate the parameter combinations at which we want to test out the GP\n",
    "twocon_nsims_validation = 10\n",
    "np.random.seed(7)\n",
    "twocon_lhd_sample_validation = two_lhd.sample(twocon_nsims_validation)\n",
    "\n",
    "# Use each GP to predict the arrival times given these parameters\n",
    "twocon_predicted = []\n",
    "for gp in twocon_gps:\n",
    "    twocon_predicted.append(gp.predict(twocon_lhd_sample_validation))"
   ]
  },
  {
   "cell_type": "code",
   "execution_count": null,
   "metadata": {},
   "outputs": [],
   "source": [
    "%%capture\n",
    "# Perform the full simulation at each of these parameter combinations\n",
    "twocon_simulated = np.zeros((len(two_busids), twocon_nsims_validation))\n",
    "twocon_simulated_gps = []\n",
    "for ind, par in enumerate(twocon_lhd_sample_validation):\n",
    "    sim_out, gps, _ = run_model_w_params(ArrivalRate=par[1]/60, TrafficSpeed=par[0], bus_ids_out=two_busids)\n",
    "    twocon_simulated[:,ind] = np.array(sim_out)\n",
    "    twocon_simulated_gps.append(gps)"
   ]
  },
  {
   "cell_type": "code",
   "execution_count": null,
   "metadata": {},
   "outputs": [],
   "source": [
    "fig, axes = plt.subplots(*twocon_predicted[0].mean.shape, sharex=True, sharey=True)\n",
    "fig.set_figwidth(15)\n",
    "\n",
    "diffs = np.zeros((len(n_consimulations), twocon_predicted[0].mean.shape[0], twocon_predicted[0].mean.shape[1]))\n",
    "for p_ind, preds in enumerate(twocon_predicted):\n",
    "    diffs[p_ind,:, :] = np.abs(preds.mean - twocon_simulated)\n",
    "    \n",
    "for bus_ind in range(twocon_predicted[0].mean.shape[0]):\n",
    "    for par_ind in range(twocon_predicted[0].mean.shape[1]):\n",
    "        axes[bus_ind, par_ind].scatter(n_consimulations, diffs[:, bus_ind, par_ind], marker=\"o\")\n",
    "        \n",
    "        if bus_ind == twocon_predicted[0].mean.shape[0] - 1:\n",
    "            axes[bus_ind, par_ind].set(xlabel=f\"TS={twocon_lhd_sample_validation[par_ind,0]:.1f}\" + \"\\n\" + f\"AR={twocon_lhd_sample_validation[par_ind,1]:.1f}\")\n",
    "    \n",
    "        if par_ind == 0:\n",
    "            axes[bus_ind, par_ind].set(ylabel=\"Bus \" + str(two_busids[bus_ind]))\n",
    "\n",
    "        \n",
    "fig.supxlabel(\"Number of parameter pairs used to train GP\", y=-0.075);\n",
    "fig.supylabel(\"Difference in final arrival time\", x=-0.075);"
   ]
  },
  {
   "cell_type": "markdown",
   "metadata": {},
   "source": [
    "The plot above is complex but informative:\n",
    "    - Each column shows the differences in the prediction of the GP emulator and the simulator at a particular pair of traffic speed and arrival rate values.\n",
    "    - Each row shows those differences for a given bus.\n",
    "    - The data points within each plot show how the difference in output is affected by the number of points used to train the GP.\n",
    "    \n",
    "We would generally expect more training points to result in better quality of emulation, but here we also have to consider the distribution of the training points across the parameter space.\n",
    "\n",
    "#### GP emulator evaluation: where does it perform badly?\n",
    "\n",
    "Let's now pick out certain parameter combinations from the plot above where the GP emulator is not able to perform well."
   ]
  },
  {
   "cell_type": "code",
   "execution_count": null,
   "metadata": {},
   "outputs": [],
   "source": [
    "par_index = 5       # column ID, from 0 at the left of the plot above\n",
    "bus_ind_plot = 2    # row ID, from 0 at the top of the plot above\n",
    "n_train_ind = 2     # point ID, from 0 at the left of each subplot within the plot above\n",
    "\n",
    "plt.plot(two_busids, twocon_predicted[n_train_ind].mean[:,par_index], \"o\", label=\"Predictions using GP\")\n",
    "plt.plot(two_busids, twocon_simulated[:,par_index], \"o\", label=\"Simulation\")\n",
    "plt.legend(loc=\"upper left\", bbox_to_anchor=(1.05, 1))\n",
    "plt.xlabel(\"Bus ID\")\n",
    "plt.ylabel(\"Time to reach final stop\")\n",
    "plt.title(\"{} input points\\ntraffic speed = {:.5}\\narrival rate = {:.5}\".format(n_consimulations[n_train_ind], twocon_lhd_sample_validation[par_index, 0], twocon_lhd_sample_validation[par_index, 1]))\n",
    "plt.show()"
   ]
  },
  {
   "cell_type": "markdown",
   "metadata": {},
   "source": [
    "Some of the subplots above clearly indicate that the GP emulator makes poor predictions.\n",
    "In the plot immediately above, we have pulled out one of the more obvious cases where bus 1 was predicted to arrive over 1000 time-steps earlier than it actually did.\n",
    "We can examine one of them more clearly by plotting the locations (GPS) of the buses."
   ]
  },
  {
   "cell_type": "code",
   "execution_count": null,
   "metadata": {},
   "outputs": [],
   "source": [
    "# Set up plot at first time-step\n",
    "gps_fig, gps_ax = plt.subplots()\n",
    "twocon_bus_gps, = gps_ax.plot(twocon_simulated_gps[par_index][0,:], range(len(twocon_simulated_gps[par_index][0,:])), \"o\")\n",
    "plt.xlim((0, 40000))\n",
    "plt.xlabel(\"Distance / m\")\n",
    "plt.ylabel(\"Bus ID\")\n",
    "ax.set_title(\"Time = 0\")\n",
    "\n",
    "# Add the animation data \n",
    "gps_anim = animation.FuncAnimation(gps_fig, drawframe, frames=twocon_simulated_gps[par_index].shape[0], interval=50, fargs=(twocon_simulated_gps[par_index], twocon_bus_gps, gps_ax), blit=False)\n",
    "plt.close()"
   ]
  },
  {
   "cell_type": "code",
   "execution_count": null,
   "metadata": {},
   "outputs": [],
   "source": [
    "gps_html = gps_anim.to_html5_video()\n",
    "HTML(gps_html)"
   ]
  },
  {
   "cell_type": "markdown",
   "metadata": {},
   "source": [
    "Checking on the simulated data above shows that while bus 1 does overtake bus 0, it does not move substantially past it.\n",
    "To better understand why the GP emulator predicts such a shorter trip duration, we should also examine some of the training data: was clearer overtaking a common theme there?\n",
    "In addition, we can note that the values of traffic speed and arrival rate associated with this prediction were close to the limits of those tested, so it may be that coverage of parameter space was again an issue.\n",
    "\n",
    "We have also so far only considered the mean prediction from the GP.\n",
    "Below, we plot the uncertainties associated with the arrival time predictions from each of the emulators."
   ]
  },
  {
   "cell_type": "code",
   "execution_count": null,
   "metadata": {},
   "outputs": [],
   "source": [
    "fig, axes = plt.subplots(*twocon_predicted[0].mean.shape, sharex=True, sharey=True)\n",
    "fig.set_figwidth(15)\n",
    "\n",
    "diffs = np.zeros((len(n_consimulations), twocon_predicted[0].unc.shape[0], twocon_predicted[0].unc.shape[1]))\n",
    "for p_ind, preds in enumerate(twocon_predicted):\n",
    "    diffs[p_ind,:, :] = preds.unc\n",
    "    \n",
    "for bus_ind in range(twocon_predicted[0].unc.shape[0]):\n",
    "    for par_ind in range(twocon_predicted[0].unc.shape[1]):\n",
    "        axes[bus_ind, par_ind].scatter(n_consimulations, diffs[:, bus_ind, par_ind], marker=\"o\")\n",
    "        \n",
    "        if bus_ind == twocon_predicted[0].mean.shape[0] - 1:\n",
    "            axes[bus_ind, par_ind].set(xlabel=f\"TS={twocon_lhd_sample_validation[par_ind,0]:.1f}\" + \"\\n\" + f\"AR={twocon_lhd_sample_validation[par_ind,1]:.1f}\")\n",
    "    \n",
    "        if par_ind == 0:\n",
    "            axes[bus_ind, par_ind].set(ylabel=\"Bus \" + str(two_busids[bus_ind]))\n",
    "\n",
    "        \n",
    "fig.supxlabel(\"Number of parameter pairs used to train GP\", y=-0.075);\n",
    "fig.supylabel(\"Uncertainty in arrival time\", x=-0.075);\n",
    "\n",
    "# plt.ylim((0, 3000));    # reduce the ylimits to see the range of uncertainty at the lower levels"
   ]
  },
  {
   "cell_type": "markdown",
   "metadata": {},
   "source": [
    "The uncertainty plots align with what we already saw from the differences in arrival time: where we could see the emulator performing poorly above, here it had exceedingly high uncertainty associated with its predictions.\n",
    "The highest values of uncertainty are generally seen in specific combinations of traffic speed and arrival rate, regardless of the number of points provided as input to the simulator.\n",
    "These particular combinations are at the outer limits of the parameter range: the fifth plot from the left here was rather low traffic speed and the highest possible arrival rate, and the first and sixth have very low arrival rates and high traffic speeds.\n",
    "\n",
    "Coverage of the parameter space is clearly something we should consider very carefully as we move on to the next stage of this study, which expands the model by introducing some stochasticity."
   ]
  }
 ],
 "metadata": {
  "kernelspec": {
   "display_name": "Python 3 (ipykernel)",
   "language": "python",
   "name": "python3"
  },
  "language_info": {
   "codemirror_mode": {
    "name": "ipython",
    "version": 3
   },
   "file_extension": ".py",
   "mimetype": "text/x-python",
   "name": "python",
   "nbconvert_exporter": "python",
   "pygments_lexer": "ipython3",
   "version": "3.9.9"
  }
 },
 "nbformat": 4,
 "nbformat_minor": 4
}
